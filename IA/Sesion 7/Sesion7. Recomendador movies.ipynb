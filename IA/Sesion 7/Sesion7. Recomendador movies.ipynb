{
 "cells": [
  {
   "cell_type": "markdown",
   "metadata": {},
   "source": [
    "## Sesion 7: Sistema recomendador de películas"
   ]
  },
  {
   "cell_type": "markdown",
   "metadata": {},
   "source": [
    "Vamos a construir un sistema recomendador de películas sin usar librerías específicas (existen algunas como surprise https://surpriselib.com/). \n",
    "\n",
    "Cargaremos los datos de una base de datos de películas llamada Movielens (https://grouplens.org/datasets/movielens/).\n",
    "\n",
    "Para representar los datos vamos a usar dataframes de Pandas (https://pandas.pydata.org/). Pandas es una de las principales librerías de análisis de datos de Python. Las estructuras más utilizadas en Pandas son las _Series_ y los _DataFrames_. \n",
    "Las _Series_ son objetos correspondientes a paneles unidimensionales, y los _DataFrames_ son paneles bidimensionales compuestos por filas y columnas, que permiten relacionar distintas variables. El formato de estas estructuras puede compararse con una hoja de cálculo de Excel o con los diccionarios de Python donde las claves son los nombres de las columnas y los valores son _Series_. \n",
    "Vamos a usar [pandas.DataFrame](http://pandas.pydata.org/pandas-docs/version/0.19/generated/pandas.DataFrame.html)\n",
    "\n",
    "Se proporciona un notebook aparte con un tutorial detallado de pandas por si tienes dificultades para entender como se usa en este notebook. \n",
    "\n",
    "Para visualizar los datos usaremos otras librerías muy útiles y conocidas como [matplotlib](https://matplotlib.org/) y [seaborn](https://seaborn.pydata.org/)."
   ]
  },
  {
   "cell_type": "code",
   "execution_count": 1,
   "metadata": {},
   "outputs": [],
   "source": [
    "import numpy as np\n",
    "import pandas as pd\n",
    "import matplotlib.pyplot as plt\n",
    "import seaborn as sns"
   ]
  },
  {
   "cell_type": "markdown",
   "metadata": {},
   "source": [
    "### Cargamos los datos y realizamos un análisis exploratorio de los mismos"
   ]
  },
  {
   "cell_type": "markdown",
   "metadata": {},
   "source": [
    "El primer paso es descargar una versión del conjunto de datos (parte de los datos de MovieLens) que están disponibles en el campus en los archivos: \n",
    "- ratings.csv\n",
    "- movies.csv\n",
    "Los archivos contienen 100000 ratings de 600 usuarios aplicadas a 9000 peliculas. \n",
    "Con la librería pandas podemos cargarlos de forma muy sencilla en un _DataFrame_ usando read_csv."
   ]
  },
  {
   "cell_type": "code",
   "execution_count": 4,
   "metadata": {},
   "outputs": [],
   "source": [
    "ratings = pd.read_csv('ratings_movies.csv')"
   ]
  },
  {
   "cell_type": "code",
   "execution_count": 5,
   "metadata": {},
   "outputs": [],
   "source": [
    "movies = pd.read_csv('movies.csv')"
   ]
  },
  {
   "cell_type": "code",
   "execution_count": 6,
   "metadata": {},
   "outputs": [
    {
     "data": {
      "text/html": [
       "<div>\n",
       "<style scoped>\n",
       "    .dataframe tbody tr th:only-of-type {\n",
       "        vertical-align: middle;\n",
       "    }\n",
       "\n",
       "    .dataframe tbody tr th {\n",
       "        vertical-align: top;\n",
       "    }\n",
       "\n",
       "    .dataframe thead th {\n",
       "        text-align: right;\n",
       "    }\n",
       "</style>\n",
       "<table border=\"1\" class=\"dataframe\">\n",
       "  <thead>\n",
       "    <tr style=\"text-align: right;\">\n",
       "      <th></th>\n",
       "      <th>movieId</th>\n",
       "      <th>title</th>\n",
       "      <th>genres</th>\n",
       "    </tr>\n",
       "  </thead>\n",
       "  <tbody>\n",
       "    <tr>\n",
       "      <th>0</th>\n",
       "      <td>1</td>\n",
       "      <td>Toy Story (1995)</td>\n",
       "      <td>Adventure|Animation|Children|Comedy|Fantasy</td>\n",
       "    </tr>\n",
       "    <tr>\n",
       "      <th>1</th>\n",
       "      <td>2</td>\n",
       "      <td>Jumanji (1995)</td>\n",
       "      <td>Adventure|Children|Fantasy</td>\n",
       "    </tr>\n",
       "    <tr>\n",
       "      <th>2</th>\n",
       "      <td>3</td>\n",
       "      <td>Grumpier Old Men (1995)</td>\n",
       "      <td>Comedy|Romance</td>\n",
       "    </tr>\n",
       "    <tr>\n",
       "      <th>3</th>\n",
       "      <td>4</td>\n",
       "      <td>Waiting to Exhale (1995)</td>\n",
       "      <td>Comedy|Drama|Romance</td>\n",
       "    </tr>\n",
       "    <tr>\n",
       "      <th>4</th>\n",
       "      <td>5</td>\n",
       "      <td>Father of the Bride Part II (1995)</td>\n",
       "      <td>Comedy</td>\n",
       "    </tr>\n",
       "  </tbody>\n",
       "</table>\n",
       "</div>"
      ],
      "text/plain": [
       "   movieId                               title  \\\n",
       "0        1                    Toy Story (1995)   \n",
       "1        2                      Jumanji (1995)   \n",
       "2        3             Grumpier Old Men (1995)   \n",
       "3        4            Waiting to Exhale (1995)   \n",
       "4        5  Father of the Bride Part II (1995)   \n",
       "\n",
       "                                        genres  \n",
       "0  Adventure|Animation|Children|Comedy|Fantasy  \n",
       "1                   Adventure|Children|Fantasy  \n",
       "2                               Comedy|Romance  \n",
       "3                         Comedy|Drama|Romance  \n",
       "4                                       Comedy  "
      ]
     },
     "execution_count": 6,
     "metadata": {},
     "output_type": "execute_result"
    }
   ],
   "source": [
    "# observamos la estructura de las tablas mostrando las primeras filas con head()\n",
    "movies.head()"
   ]
  },
  {
   "cell_type": "markdown",
   "metadata": {},
   "source": [
    "Por ejemplo, podemos buscar una película si sabemos su nombre con la siguiente función:"
   ]
  },
  {
   "cell_type": "code",
   "execution_count": 7,
   "metadata": {},
   "outputs": [
    {
     "data": {
      "text/plain": [
       "['Toy Story (1995)', 'Toy Story 2 (1999)', 'Toy Story 3 (2010)']"
      ]
     },
     "execution_count": 7,
     "metadata": {},
     "output_type": "execute_result"
    }
   ],
   "source": [
    "def movie_finder(title):\n",
    "    return movies[movies['title'].str.contains(title)]['title'].tolist()\n",
    "\n",
    "movie_finder('Toy Story')"
   ]
  },
  {
   "cell_type": "code",
   "execution_count": 8,
   "metadata": {},
   "outputs": [
    {
     "data": {
      "text/html": [
       "<div>\n",
       "<style scoped>\n",
       "    .dataframe tbody tr th:only-of-type {\n",
       "        vertical-align: middle;\n",
       "    }\n",
       "\n",
       "    .dataframe tbody tr th {\n",
       "        vertical-align: top;\n",
       "    }\n",
       "\n",
       "    .dataframe thead th {\n",
       "        text-align: right;\n",
       "    }\n",
       "</style>\n",
       "<table border=\"1\" class=\"dataframe\">\n",
       "  <thead>\n",
       "    <tr style=\"text-align: right;\">\n",
       "      <th></th>\n",
       "      <th>userId</th>\n",
       "      <th>movieId</th>\n",
       "      <th>rating</th>\n",
       "      <th>timestamp</th>\n",
       "    </tr>\n",
       "  </thead>\n",
       "  <tbody>\n",
       "    <tr>\n",
       "      <th>0</th>\n",
       "      <td>1</td>\n",
       "      <td>1</td>\n",
       "      <td>4.0</td>\n",
       "      <td>964982703</td>\n",
       "    </tr>\n",
       "    <tr>\n",
       "      <th>1</th>\n",
       "      <td>1</td>\n",
       "      <td>3</td>\n",
       "      <td>4.0</td>\n",
       "      <td>964981247</td>\n",
       "    </tr>\n",
       "    <tr>\n",
       "      <th>2</th>\n",
       "      <td>1</td>\n",
       "      <td>6</td>\n",
       "      <td>4.0</td>\n",
       "      <td>964982224</td>\n",
       "    </tr>\n",
       "    <tr>\n",
       "      <th>3</th>\n",
       "      <td>1</td>\n",
       "      <td>47</td>\n",
       "      <td>5.0</td>\n",
       "      <td>964983815</td>\n",
       "    </tr>\n",
       "    <tr>\n",
       "      <th>4</th>\n",
       "      <td>1</td>\n",
       "      <td>50</td>\n",
       "      <td>5.0</td>\n",
       "      <td>964982931</td>\n",
       "    </tr>\n",
       "  </tbody>\n",
       "</table>\n",
       "</div>"
      ],
      "text/plain": [
       "   userId  movieId  rating  timestamp\n",
       "0       1        1     4.0  964982703\n",
       "1       1        3     4.0  964981247\n",
       "2       1        6     4.0  964982224\n",
       "3       1       47     5.0  964983815\n",
       "4       1       50     5.0  964982931"
      ]
     },
     "execution_count": 8,
     "metadata": {},
     "output_type": "execute_result"
    }
   ],
   "source": [
    "ratings.head()"
   ]
  },
  {
   "cell_type": "markdown",
   "metadata": {},
   "source": [
    "Observa cómo se accede a una Serie de Datos seleccionando una columna del Dataframe"
   ]
  },
  {
   "cell_type": "code",
   "execution_count": 9,
   "metadata": {},
   "outputs": [],
   "source": [
    "title_movies = movies['title']"
   ]
  },
  {
   "cell_type": "code",
   "execution_count": 10,
   "metadata": {},
   "outputs": [
    {
     "data": {
      "text/plain": [
       "0                                Toy Story (1995)\n",
       "1                                  Jumanji (1995)\n",
       "2                         Grumpier Old Men (1995)\n",
       "3                        Waiting to Exhale (1995)\n",
       "4              Father of the Bride Part II (1995)\n",
       "                          ...                    \n",
       "9737    Black Butler: Book of the Atlantic (2017)\n",
       "9738                 No Game No Life: Zero (2017)\n",
       "9739                                 Flint (2017)\n",
       "9740          Bungo Stray Dogs: Dead Apple (2018)\n",
       "9741          Andrew Dice Clay: Dice Rules (1991)\n",
       "Name: title, Length: 9742, dtype: object"
      ]
     },
     "execution_count": 10,
     "metadata": {},
     "output_type": "execute_result"
    }
   ],
   "source": [
    "title_movies"
   ]
  },
  {
   "cell_type": "code",
   "execution_count": null,
   "metadata": {},
   "outputs": [],
   "source": [
    "##Vamos a filtrar los ratings para quedarnos solo con valoraciones que corresponden a la peliculas del data set (numeradas del 0 al 9741) \n",
    "ratings = ratings.loc[ratings['movieId'] <= 9741]"
   ]
  },
  {
   "cell_type": "markdown",
   "metadata": {},
   "source": [
    "Podemos contar los elementos distintos con la función Series.nunique(dropna=True) (el parámetro indica si ignorar los valores NaN)."
   ]
  },
  {
   "cell_type": "code",
   "execution_count": 11,
   "metadata": {},
   "outputs": [
    {
     "name": "stdout",
     "output_type": "stream",
     "text": [
      "Numero de ratings: 100836\n",
      "Numero de movieId's: 9724\n",
      "Numero de users: 610\n",
      "Número medio de ratings por usuario: 165.3\n",
      "Número medio de ratings por película: 10.37\n"
     ]
    }
   ],
   "source": [
    "n_ratings = len(ratings)\n",
    "n_movies = ratings['movieId'].nunique()\n",
    "n_users = ratings['userId'].nunique()\n",
    "print(f\"Numero de ratings: {n_ratings}\")\n",
    "print(f\"Numero de movieId's: {n_movies}\")\n",
    "print(f\"Numero de users: {n_users}\")\n",
    "print(f\"Número medio de ratings por usuario: {round(n_ratings/n_users, 2)}\")\n",
    "print(f\"Número medio de ratings por película: {round(n_ratings/n_movies, 2)}\")"
   ]
  },
  {
   "cell_type": "code",
   "execution_count": 12,
   "metadata": {},
   "outputs": [
    {
     "data": {
      "image/png": "[encoded data removed]",
      "text/plain": [
       "<Figure size 640x480 with 1 Axes>"
      ]
     },
     "metadata": {},
     "output_type": "display_data"
    }
   ],
   "source": [
    "#sns.countplot(x=\"rating\", data=ratings, palette=\"viridis\")\n",
    "sns.countplot(x=\"rating\", data=ratings)\n",
    "plt.title(\"Distribución de los ratings de las películas\", fontsize=14)\n",
    "plt.show()"
   ]
  },
  {
   "cell_type": "code",
   "execution_count": null,
   "metadata": {},
   "outputs": [],
   "source": [
    "print(f\"Rating global medio: {round(ratings['rating'].mean(),2)}.\")\n",
    "mean_ratings = ratings.groupby('userId')['rating'].mean()\n",
    "print(f\"Ratio medio por usuario: {round(mean_ratings.mean(),2)}.\")"
   ]
  },
  {
   "cell_type": "markdown",
   "metadata": {},
   "source": [
    "### 1. Recomendador basado en popularidad\n",
    "Vamos a hacer un primer recomendador básico basado en popularidad. \n",
    "Medimos la popularidad de las películas para saber cuál es la mejor y peor película, es decir, qué película tiene la media de ratings más alta y más baja. "
   ]
  },
  {
   "cell_type": "code",
   "execution_count": 13,
   "metadata": {},
   "outputs": [],
   "source": [
    "# primero sacamos la media de ratings de cada película.\n",
    "mean_ratings = ratings.groupby('movieId')[['rating']].mean()"
   ]
  },
  {
   "cell_type": "code",
   "execution_count": 14,
   "metadata": {},
   "outputs": [
    {
     "data": {
      "text/html": [
       "<div>\n",
       "<style scoped>\n",
       "    .dataframe tbody tr th:only-of-type {\n",
       "        vertical-align: middle;\n",
       "    }\n",
       "\n",
       "    .dataframe tbody tr th {\n",
       "        vertical-align: top;\n",
       "    }\n",
       "\n",
       "    .dataframe thead th {\n",
       "        text-align: right;\n",
       "    }\n",
       "</style>\n",
       "<table border=\"1\" class=\"dataframe\">\n",
       "  <thead>\n",
       "    <tr style=\"text-align: right;\">\n",
       "      <th></th>\n",
       "      <th>rating</th>\n",
       "    </tr>\n",
       "    <tr>\n",
       "      <th>movieId</th>\n",
       "      <th></th>\n",
       "    </tr>\n",
       "  </thead>\n",
       "  <tbody>\n",
       "    <tr>\n",
       "      <th>1</th>\n",
       "      <td>3.920930</td>\n",
       "    </tr>\n",
       "    <tr>\n",
       "      <th>2</th>\n",
       "      <td>3.431818</td>\n",
       "    </tr>\n",
       "    <tr>\n",
       "      <th>3</th>\n",
       "      <td>3.259615</td>\n",
       "    </tr>\n",
       "    <tr>\n",
       "      <th>4</th>\n",
       "      <td>2.357143</td>\n",
       "    </tr>\n",
       "    <tr>\n",
       "      <th>5</th>\n",
       "      <td>3.071429</td>\n",
       "    </tr>\n",
       "    <tr>\n",
       "      <th>...</th>\n",
       "      <td>...</td>\n",
       "    </tr>\n",
       "    <tr>\n",
       "      <th>193581</th>\n",
       "      <td>4.000000</td>\n",
       "    </tr>\n",
       "    <tr>\n",
       "      <th>193583</th>\n",
       "      <td>3.500000</td>\n",
       "    </tr>\n",
       "    <tr>\n",
       "      <th>193585</th>\n",
       "      <td>3.500000</td>\n",
       "    </tr>\n",
       "    <tr>\n",
       "      <th>193587</th>\n",
       "      <td>3.500000</td>\n",
       "    </tr>\n",
       "    <tr>\n",
       "      <th>193609</th>\n",
       "      <td>4.000000</td>\n",
       "    </tr>\n",
       "  </tbody>\n",
       "</table>\n",
       "<p>9724 rows × 1 columns</p>\n",
       "</div>"
      ],
      "text/plain": [
       "           rating\n",
       "movieId          \n",
       "1        3.920930\n",
       "2        3.431818\n",
       "3        3.259615\n",
       "4        2.357143\n",
       "5        3.071429\n",
       "...           ...\n",
       "193581   4.000000\n",
       "193583   3.500000\n",
       "193585   3.500000\n",
       "193587   3.500000\n",
       "193609   4.000000\n",
       "\n",
       "[9724 rows x 1 columns]"
      ]
     },
     "execution_count": 14,
     "metadata": {},
     "output_type": "execute_result"
    }
   ],
   "source": [
    "mean_ratings"
   ]
  },
  {
   "cell_type": "code",
   "execution_count": 15,
   "metadata": {},
   "outputs": [
    {
     "data": {
      "text/html": [
       "<div>\n",
       "<style scoped>\n",
       "    .dataframe tbody tr th:only-of-type {\n",
       "        vertical-align: middle;\n",
       "    }\n",
       "\n",
       "    .dataframe tbody tr th {\n",
       "        vertical-align: top;\n",
       "    }\n",
       "\n",
       "    .dataframe thead th {\n",
       "        text-align: right;\n",
       "    }\n",
       "</style>\n",
       "<table border=\"1\" class=\"dataframe\">\n",
       "  <thead>\n",
       "    <tr style=\"text-align: right;\">\n",
       "      <th></th>\n",
       "      <th>movieId</th>\n",
       "      <th>title</th>\n",
       "      <th>genres</th>\n",
       "    </tr>\n",
       "  </thead>\n",
       "  <tbody>\n",
       "    <tr>\n",
       "      <th>0</th>\n",
       "      <td>1</td>\n",
       "      <td>Toy Story (1995)</td>\n",
       "      <td>Adventure|Animation|Children|Comedy|Fantasy</td>\n",
       "    </tr>\n",
       "    <tr>\n",
       "      <th>1</th>\n",
       "      <td>2</td>\n",
       "      <td>Jumanji (1995)</td>\n",
       "      <td>Adventure|Children|Fantasy</td>\n",
       "    </tr>\n",
       "    <tr>\n",
       "      <th>2</th>\n",
       "      <td>3</td>\n",
       "      <td>Grumpier Old Men (1995)</td>\n",
       "      <td>Comedy|Romance</td>\n",
       "    </tr>\n",
       "    <tr>\n",
       "      <th>3</th>\n",
       "      <td>4</td>\n",
       "      <td>Waiting to Exhale (1995)</td>\n",
       "      <td>Comedy|Drama|Romance</td>\n",
       "    </tr>\n",
       "    <tr>\n",
       "      <th>4</th>\n",
       "      <td>5</td>\n",
       "      <td>Father of the Bride Part II (1995)</td>\n",
       "      <td>Comedy</td>\n",
       "    </tr>\n",
       "    <tr>\n",
       "      <th>...</th>\n",
       "      <td>...</td>\n",
       "      <td>...</td>\n",
       "      <td>...</td>\n",
       "    </tr>\n",
       "    <tr>\n",
       "      <th>9737</th>\n",
       "      <td>193581</td>\n",
       "      <td>Black Butler: Book of the Atlantic (2017)</td>\n",
       "      <td>Action|Animation|Comedy|Fantasy</td>\n",
       "    </tr>\n",
       "    <tr>\n",
       "      <th>9738</th>\n",
       "      <td>193583</td>\n",
       "      <td>No Game No Life: Zero (2017)</td>\n",
       "      <td>Animation|Comedy|Fantasy</td>\n",
       "    </tr>\n",
       "    <tr>\n",
       "      <th>9739</th>\n",
       "      <td>193585</td>\n",
       "      <td>Flint (2017)</td>\n",
       "      <td>Drama</td>\n",
       "    </tr>\n",
       "    <tr>\n",
       "      <th>9740</th>\n",
       "      <td>193587</td>\n",
       "      <td>Bungo Stray Dogs: Dead Apple (2018)</td>\n",
       "      <td>Action|Animation</td>\n",
       "    </tr>\n",
       "    <tr>\n",
       "      <th>9741</th>\n",
       "      <td>193609</td>\n",
       "      <td>Andrew Dice Clay: Dice Rules (1991)</td>\n",
       "      <td>Comedy</td>\n",
       "    </tr>\n",
       "  </tbody>\n",
       "</table>\n",
       "<p>9742 rows × 3 columns</p>\n",
       "</div>"
      ],
      "text/plain": [
       "      movieId                                      title  \\\n",
       "0           1                           Toy Story (1995)   \n",
       "1           2                             Jumanji (1995)   \n",
       "2           3                    Grumpier Old Men (1995)   \n",
       "3           4                   Waiting to Exhale (1995)   \n",
       "4           5         Father of the Bride Part II (1995)   \n",
       "...       ...                                        ...   \n",
       "9737   193581  Black Butler: Book of the Atlantic (2017)   \n",
       "9738   193583               No Game No Life: Zero (2017)   \n",
       "9739   193585                               Flint (2017)   \n",
       "9740   193587        Bungo Stray Dogs: Dead Apple (2018)   \n",
       "9741   193609        Andrew Dice Clay: Dice Rules (1991)   \n",
       "\n",
       "                                           genres  \n",
       "0     Adventure|Animation|Children|Comedy|Fantasy  \n",
       "1                      Adventure|Children|Fantasy  \n",
       "2                                  Comedy|Romance  \n",
       "3                            Comedy|Drama|Romance  \n",
       "4                                          Comedy  \n",
       "...                                           ...  \n",
       "9737              Action|Animation|Comedy|Fantasy  \n",
       "9738                     Animation|Comedy|Fantasy  \n",
       "9739                                        Drama  \n",
       "9740                             Action|Animation  \n",
       "9741                                       Comedy  \n",
       "\n",
       "[9742 rows x 3 columns]"
      ]
     },
     "execution_count": 15,
     "metadata": {},
     "output_type": "execute_result"
    }
   ],
   "source": [
    "movies"
   ]
  },
  {
   "cell_type": "code",
   "execution_count": 16,
   "metadata": {},
   "outputs": [
    {
     "data": {
      "text/html": [
       "<div>\n",
       "<style scoped>\n",
       "    .dataframe tbody tr th:only-of-type {\n",
       "        vertical-align: middle;\n",
       "    }\n",
       "\n",
       "    .dataframe tbody tr th {\n",
       "        vertical-align: top;\n",
       "    }\n",
       "\n",
       "    .dataframe thead th {\n",
       "        text-align: right;\n",
       "    }\n",
       "</style>\n",
       "<table border=\"1\" class=\"dataframe\">\n",
       "  <thead>\n",
       "    <tr style=\"text-align: right;\">\n",
       "      <th></th>\n",
       "      <th>movieId</th>\n",
       "      <th>title</th>\n",
       "      <th>genres</th>\n",
       "    </tr>\n",
       "  </thead>\n",
       "  <tbody>\n",
       "    <tr>\n",
       "      <th>2689</th>\n",
       "      <td>3604</td>\n",
       "      <td>Gypsy (1962)</td>\n",
       "      <td>Musical</td>\n",
       "    </tr>\n",
       "  </tbody>\n",
       "</table>\n",
       "</div>"
      ],
      "text/plain": [
       "      movieId         title   genres\n",
       "2689     3604  Gypsy (1962)  Musical"
      ]
     },
     "execution_count": 16,
     "metadata": {},
     "output_type": "execute_result"
    }
   ],
   "source": [
    "lowest_rated = mean_ratings['rating'].idxmin()\n",
    "# idxmin devuelve el indice del mínimo (o de la primera vez que aparece) en la serie seleccionada.\n",
    "# Ahora seleccionamos la fila de movies correspondiente a ese valor de ratio.\n",
    "movies[movies['movieId'] == lowest_rated]"
   ]
  },
  {
   "cell_type": "markdown",
   "metadata": {},
   "source": [
    "La película `Gypsy` tiene el rating medio más bajo. Su movieId es el 3604"
   ]
  },
  {
   "cell_type": "code",
   "execution_count": 17,
   "metadata": {},
   "outputs": [
    {
     "data": {
      "text/html": [
       "<div>\n",
       "<style scoped>\n",
       "    .dataframe tbody tr th:only-of-type {\n",
       "        vertical-align: middle;\n",
       "    }\n",
       "\n",
       "    .dataframe tbody tr th {\n",
       "        vertical-align: top;\n",
       "    }\n",
       "\n",
       "    .dataframe thead th {\n",
       "        text-align: right;\n",
       "    }\n",
       "</style>\n",
       "<table border=\"1\" class=\"dataframe\">\n",
       "  <thead>\n",
       "    <tr style=\"text-align: right;\">\n",
       "      <th></th>\n",
       "      <th>movieId</th>\n",
       "      <th>title</th>\n",
       "      <th>genres</th>\n",
       "    </tr>\n",
       "  </thead>\n",
       "  <tbody>\n",
       "    <tr>\n",
       "      <th>48</th>\n",
       "      <td>53</td>\n",
       "      <td>Lamerica (1994)</td>\n",
       "      <td>Adventure|Drama</td>\n",
       "    </tr>\n",
       "  </tbody>\n",
       "</table>\n",
       "</div>"
      ],
      "text/plain": [
       "    movieId            title           genres\n",
       "48       53  Lamerica (1994)  Adventure|Drama"
      ]
     },
     "execution_count": 17,
     "metadata": {},
     "output_type": "execute_result"
    }
   ],
   "source": [
    "highest_rated = mean_ratings['rating'].idxmax()\n",
    "movies[movies['movieId'] == highest_rated]"
   ]
  },
  {
   "cell_type": "markdown",
   "metadata": {},
   "source": [
    "La película `Lamerica` (cuyo movieId es 53) tiene el valor de ratio más alto porque su media de valoraciones es 5."
   ]
  },
  {
   "cell_type": "markdown",
   "metadata": {},
   "source": [
    "Con este análisis un recomendador basado en popularidad recomendaría `Lamerica` y consideraría que `Gypsy` es una película muy poco recomendable. Si observamos un poco más los datos podemos concluir que esta recomendación no sería muy justa porque  `Gypsy` ha sido votada una única vez y `Lamerica` ha sido votada solo 2 veces. Debemos normalizar y ajustar la recomendación al número de valoraciones, por ejemplo, la película The Godfather tiene 192 valoraciones y aunque su media no llega a ser 5.0 es más popular y sería una mejor recomendación ¿Cómo podemos saber que cuántas veces ha sido votada una película? ¿Cómo podemos ajustar la popularidad usando esta información?"
   ]
  },
  {
   "cell_type": "code",
   "execution_count": 18,
   "metadata": {},
   "outputs": [
    {
     "data": {
      "text/html": [
       "<div>\n",
       "<style scoped>\n",
       "    .dataframe tbody tr th:only-of-type {\n",
       "        vertical-align: middle;\n",
       "    }\n",
       "\n",
       "    .dataframe tbody tr th {\n",
       "        vertical-align: top;\n",
       "    }\n",
       "\n",
       "    .dataframe thead th {\n",
       "        text-align: right;\n",
       "    }\n",
       "</style>\n",
       "<table border=\"1\" class=\"dataframe\">\n",
       "  <thead>\n",
       "    <tr style=\"text-align: right;\">\n",
       "      <th></th>\n",
       "      <th>movieId</th>\n",
       "      <th>title</th>\n",
       "      <th>genres</th>\n",
       "    </tr>\n",
       "  </thead>\n",
       "  <tbody>\n",
       "    <tr>\n",
       "      <th>48</th>\n",
       "      <td>53</td>\n",
       "      <td>Lamerica (1994)</td>\n",
       "      <td>Adventure|Drama</td>\n",
       "    </tr>\n",
       "  </tbody>\n",
       "</table>\n",
       "</div>"
      ],
      "text/plain": [
       "    movieId            title           genres\n",
       "48       53  Lamerica (1994)  Adventure|Drama"
      ]
     },
     "execution_count": 18,
     "metadata": {},
     "output_type": "execute_result"
    }
   ],
   "source": [
    "movies[movies['movieId'] == 53]"
   ]
  },
  {
   "cell_type": "code",
   "execution_count": 19,
   "metadata": {},
   "outputs": [
    {
     "data": {
      "text/html": [
       "<div>\n",
       "<style scoped>\n",
       "    .dataframe tbody tr th:only-of-type {\n",
       "        vertical-align: middle;\n",
       "    }\n",
       "\n",
       "    .dataframe tbody tr th {\n",
       "        vertical-align: top;\n",
       "    }\n",
       "\n",
       "    .dataframe thead th {\n",
       "        text-align: right;\n",
       "    }\n",
       "</style>\n",
       "<table border=\"1\" class=\"dataframe\">\n",
       "  <thead>\n",
       "    <tr style=\"text-align: right;\">\n",
       "      <th></th>\n",
       "      <th>userId</th>\n",
       "      <th>movieId</th>\n",
       "      <th>rating</th>\n",
       "      <th>timestamp</th>\n",
       "    </tr>\n",
       "  </thead>\n",
       "  <tbody>\n",
       "    <tr>\n",
       "      <th>13368</th>\n",
       "      <td>85</td>\n",
       "      <td>53</td>\n",
       "      <td>5.0</td>\n",
       "      <td>889468268</td>\n",
       "    </tr>\n",
       "    <tr>\n",
       "      <th>96115</th>\n",
       "      <td>603</td>\n",
       "      <td>53</td>\n",
       "      <td>5.0</td>\n",
       "      <td>963180003</td>\n",
       "    </tr>\n",
       "  </tbody>\n",
       "</table>\n",
       "</div>"
      ],
      "text/plain": [
       "       userId  movieId  rating  timestamp\n",
       "13368      85       53     5.0  889468268\n",
       "96115     603       53     5.0  963180003"
      ]
     },
     "execution_count": 19,
     "metadata": {},
     "output_type": "execute_result"
    }
   ],
   "source": [
    "# ratings de la película Lamerica. \n",
    "ratings[ratings['movieId'] == 53]"
   ]
  },
  {
   "cell_type": "code",
   "execution_count": 20,
   "metadata": {},
   "outputs": [
    {
     "data": {
      "text/html": [
       "<div>\n",
       "<style scoped>\n",
       "    .dataframe tbody tr th:only-of-type {\n",
       "        vertical-align: middle;\n",
       "    }\n",
       "\n",
       "    .dataframe tbody tr th {\n",
       "        vertical-align: top;\n",
       "    }\n",
       "\n",
       "    .dataframe thead th {\n",
       "        text-align: right;\n",
       "    }\n",
       "</style>\n",
       "<table border=\"1\" class=\"dataframe\">\n",
       "  <thead>\n",
       "    <tr style=\"text-align: right;\">\n",
       "      <th></th>\n",
       "      <th>userId</th>\n",
       "      <th>movieId</th>\n",
       "      <th>rating</th>\n",
       "      <th>timestamp</th>\n",
       "    </tr>\n",
       "  </thead>\n",
       "  <tbody>\n",
       "    <tr>\n",
       "      <th>13633</th>\n",
       "      <td>89</td>\n",
       "      <td>3604</td>\n",
       "      <td>0.5</td>\n",
       "      <td>1520408880</td>\n",
       "    </tr>\n",
       "  </tbody>\n",
       "</table>\n",
       "</div>"
      ],
      "text/plain": [
       "       userId  movieId  rating   timestamp\n",
       "13633      89     3604     0.5  1520408880"
      ]
     },
     "execution_count": 20,
     "metadata": {},
     "output_type": "execute_result"
    }
   ],
   "source": [
    "# ratings de la película gypsy. \n",
    "ratings[ratings['movieId'] == 3604]"
   ]
  },
  {
   "cell_type": "code",
   "execution_count": 21,
   "metadata": {},
   "outputs": [
    {
     "data": {
      "text/html": [
       "<div>\n",
       "<style scoped>\n",
       "    .dataframe tbody tr th:only-of-type {\n",
       "        vertical-align: middle;\n",
       "    }\n",
       "\n",
       "    .dataframe tbody tr th {\n",
       "        vertical-align: top;\n",
       "    }\n",
       "\n",
       "    .dataframe thead th {\n",
       "        text-align: right;\n",
       "    }\n",
       "</style>\n",
       "<table border=\"1\" class=\"dataframe\">\n",
       "  <thead>\n",
       "    <tr style=\"text-align: right;\">\n",
       "      <th></th>\n",
       "      <th>movieId</th>\n",
       "      <th>title</th>\n",
       "      <th>genres</th>\n",
       "    </tr>\n",
       "  </thead>\n",
       "  <tbody>\n",
       "    <tr>\n",
       "      <th>659</th>\n",
       "      <td>858</td>\n",
       "      <td>Godfather, The (1972)</td>\n",
       "      <td>Crime|Drama</td>\n",
       "    </tr>\n",
       "  </tbody>\n",
       "</table>\n",
       "</div>"
      ],
      "text/plain": [
       "     movieId                  title       genres\n",
       "659      858  Godfather, The (1972)  Crime|Drama"
      ]
     },
     "execution_count": 21,
     "metadata": {},
     "output_type": "execute_result"
    }
   ],
   "source": [
    "movies[movies['movieId'] == 858]"
   ]
  },
  {
   "cell_type": "code",
   "execution_count": 22,
   "metadata": {},
   "outputs": [
    {
     "data": {
      "text/html": [
       "<div>\n",
       "<style scoped>\n",
       "    .dataframe tbody tr th:only-of-type {\n",
       "        vertical-align: middle;\n",
       "    }\n",
       "\n",
       "    .dataframe tbody tr th {\n",
       "        vertical-align: top;\n",
       "    }\n",
       "\n",
       "    .dataframe thead th {\n",
       "        text-align: right;\n",
       "    }\n",
       "</style>\n",
       "<table border=\"1\" class=\"dataframe\">\n",
       "  <thead>\n",
       "    <tr style=\"text-align: right;\">\n",
       "      <th></th>\n",
       "      <th>userId</th>\n",
       "      <th>movieId</th>\n",
       "      <th>rating</th>\n",
       "      <th>timestamp</th>\n",
       "    </tr>\n",
       "  </thead>\n",
       "  <tbody>\n",
       "    <tr>\n",
       "      <th>1453</th>\n",
       "      <td>15</td>\n",
       "      <td>858</td>\n",
       "      <td>4.0</td>\n",
       "      <td>1510571941</td>\n",
       "    </tr>\n",
       "    <tr>\n",
       "      <th>1587</th>\n",
       "      <td>16</td>\n",
       "      <td>858</td>\n",
       "      <td>2.5</td>\n",
       "      <td>1377476772</td>\n",
       "    </tr>\n",
       "    <tr>\n",
       "      <th>1688</th>\n",
       "      <td>17</td>\n",
       "      <td>858</td>\n",
       "      <td>5.0</td>\n",
       "      <td>1305696683</td>\n",
       "    </tr>\n",
       "    <tr>\n",
       "      <th>1836</th>\n",
       "      <td>18</td>\n",
       "      <td>858</td>\n",
       "      <td>4.0</td>\n",
       "      <td>1455050024</td>\n",
       "    </tr>\n",
       "    <tr>\n",
       "      <th>3253</th>\n",
       "      <td>21</td>\n",
       "      <td>858</td>\n",
       "      <td>2.5</td>\n",
       "      <td>1376823648</td>\n",
       "    </tr>\n",
       "    <tr>\n",
       "      <th>...</th>\n",
       "      <td>...</td>\n",
       "      <td>...</td>\n",
       "      <td>...</td>\n",
       "      <td>...</td>\n",
       "    </tr>\n",
       "    <tr>\n",
       "      <th>96280</th>\n",
       "      <td>603</td>\n",
       "      <td>858</td>\n",
       "      <td>5.0</td>\n",
       "      <td>953926758</td>\n",
       "    </tr>\n",
       "    <tr>\n",
       "      <th>97486</th>\n",
       "      <td>606</td>\n",
       "      <td>858</td>\n",
       "      <td>4.0</td>\n",
       "      <td>1171234955</td>\n",
       "    </tr>\n",
       "    <tr>\n",
       "      <th>98524</th>\n",
       "      <td>607</td>\n",
       "      <td>858</td>\n",
       "      <td>4.0</td>\n",
       "      <td>963078880</td>\n",
       "    </tr>\n",
       "    <tr>\n",
       "      <th>98831</th>\n",
       "      <td>608</td>\n",
       "      <td>858</td>\n",
       "      <td>5.0</td>\n",
       "      <td>1117408367</td>\n",
       "    </tr>\n",
       "    <tr>\n",
       "      <th>99586</th>\n",
       "      <td>610</td>\n",
       "      <td>858</td>\n",
       "      <td>5.0</td>\n",
       "      <td>1479545844</td>\n",
       "    </tr>\n",
       "  </tbody>\n",
       "</table>\n",
       "<p>192 rows × 4 columns</p>\n",
       "</div>"
      ],
      "text/plain": [
       "       userId  movieId  rating   timestamp\n",
       "1453       15      858     4.0  1510571941\n",
       "1587       16      858     2.5  1377476772\n",
       "1688       17      858     5.0  1305696683\n",
       "1836       18      858     4.0  1455050024\n",
       "3253       21      858     2.5  1376823648\n",
       "...       ...      ...     ...         ...\n",
       "96280     603      858     5.0   953926758\n",
       "97486     606      858     4.0  1171234955\n",
       "98524     607      858     4.0   963078880\n",
       "98831     608      858     5.0  1117408367\n",
       "99586     610      858     5.0  1479545844\n",
       "\n",
       "[192 rows x 4 columns]"
      ]
     },
     "execution_count": 22,
     "metadata": {},
     "output_type": "execute_result"
    }
   ],
   "source": [
    "# ratings de la pelicula The Godfather.\n",
    "ratings[ratings['movieId'] == 858]"
   ]
  },
  {
   "cell_type": "markdown",
   "metadata": {},
   "source": [
    "Vamos a usar otra aproximación mejor para evaluar la popularidad de las películas usando __la media bayesiana__ [Bayesian average](https://en.wikipedia.org/wiki/Bayesian_average) que no está afectada por el número de valoraciones. La media bayesiana es un concepto relacionado con la estadística y la teoría de probabilidad que se utiliza para calcular la media de una distribución de probabilidad a partir de una combinación de la información previa y de la nueva información observada. En contraste con la media aritmética común, que se calcula simplemente promediando los valores observados, la media bayesiana toma en cuenta la incertidumbre inherente a los datos y la incorpora de manera formal en el cálculo de la media."
   ]
  },
  {
   "cell_type": "markdown",
   "metadata": {},
   "source": [
    "Para este ejemplo vamos a utilizar la siguiente definición de _Media Bayesiana_:\n",
    "\n",
    "$r_{i} = \\frac{C \\times m + \\Sigma{\\text{reviews}}}{C+N}$\n",
    "\n",
    "Donde:\n",
    "  - $C$ representa la confianza\n",
    "  - $m$ representa el conocimiento previo (prior) que en este ejemplo será el rating medio (calculado con todas las películas). \n",
    "  - $N$ es el numero total de ratings para la película $i$ \n",
    "  - $C$ representa el tamaño típico de un data set. En este caso $C$ será el número medio de ratings de las películas. "
   ]
  },
  {
   "cell_type": "markdown",
   "metadata": {},
   "source": [
    "El cálculo de la media bayesiana es útil en situaciones donde queremos combinar información previa con nuevos datos para obtener una estimación más precisa y ajustada de una variable. Esta técnica es especialmente útil en el contexto del aprendizaje automático y la inferencia bayesiana, donde se modelan distribuciones de probabilidad para tomar decisiones basadas en datos y creencias previas."
   ]
  },
  {
   "cell_type": "code",
   "execution_count": 23,
   "metadata": {},
   "outputs": [],
   "source": [
    "movie_stats = ratings.groupby('movieId')[['rating']].agg(['count', 'mean'])\n",
    "movie_stats.columns = movie_stats.columns.droplevel()"
   ]
  },
  {
   "cell_type": "code",
   "execution_count": 24,
   "metadata": {},
   "outputs": [],
   "source": [
    "C = movie_stats['count'].mean()\n",
    "m = movie_stats['mean'].mean()\n",
    "\n",
    "def bayesian_avg(ratings):\n",
    "    bayesian_avg = (C*m+ratings.sum())/(C+ratings.count())\n",
    "    return bayesian_avg\n",
    "\n",
    "bayesian_avg_ratings = ratings.groupby('movieId')['rating'].agg(bayesian_avg).reset_index()\n",
    "bayesian_avg_ratings.columns = ['movieId', 'bayesian_avg']\n",
    "movie_stats = movie_stats.merge(bayesian_avg_ratings, on='movieId')"
   ]
  },
  {
   "cell_type": "code",
   "execution_count": 25,
   "metadata": {},
   "outputs": [
    {
     "data": {
      "text/html": [
       "<div>\n",
       "<style scoped>\n",
       "    .dataframe tbody tr th:only-of-type {\n",
       "        vertical-align: middle;\n",
       "    }\n",
       "\n",
       "    .dataframe tbody tr th {\n",
       "        vertical-align: top;\n",
       "    }\n",
       "\n",
       "    .dataframe thead th {\n",
       "        text-align: right;\n",
       "    }\n",
       "</style>\n",
       "<table border=\"1\" class=\"dataframe\">\n",
       "  <thead>\n",
       "    <tr style=\"text-align: right;\">\n",
       "      <th></th>\n",
       "      <th>movieId</th>\n",
       "      <th>count</th>\n",
       "      <th>mean</th>\n",
       "      <th>bayesian_avg</th>\n",
       "      <th>title</th>\n",
       "    </tr>\n",
       "  </thead>\n",
       "  <tbody>\n",
       "    <tr>\n",
       "      <th>277</th>\n",
       "      <td>318</td>\n",
       "      <td>317</td>\n",
       "      <td>4.429022</td>\n",
       "      <td>4.392070</td>\n",
       "      <td>Shawshank Redemption, The (1994)</td>\n",
       "    </tr>\n",
       "    <tr>\n",
       "      <th>659</th>\n",
       "      <td>858</td>\n",
       "      <td>192</td>\n",
       "      <td>4.289062</td>\n",
       "      <td>4.236457</td>\n",
       "      <td>Godfather, The (1972)</td>\n",
       "    </tr>\n",
       "    <tr>\n",
       "      <th>2224</th>\n",
       "      <td>2959</td>\n",
       "      <td>218</td>\n",
       "      <td>4.272936</td>\n",
       "      <td>4.227052</td>\n",
       "      <td>Fight Club (1999)</td>\n",
       "    </tr>\n",
       "    <tr>\n",
       "      <th>224</th>\n",
       "      <td>260</td>\n",
       "      <td>251</td>\n",
       "      <td>4.231076</td>\n",
       "      <td>4.192646</td>\n",
       "      <td>Star Wars: Episode IV - A New Hope (1977)</td>\n",
       "    </tr>\n",
       "    <tr>\n",
       "      <th>46</th>\n",
       "      <td>50</td>\n",
       "      <td>204</td>\n",
       "      <td>4.237745</td>\n",
       "      <td>4.190567</td>\n",
       "      <td>Usual Suspects, The (1995)</td>\n",
       "    </tr>\n",
       "  </tbody>\n",
       "</table>\n",
       "</div>"
      ],
      "text/plain": [
       "      movieId  count      mean  bayesian_avg  \\\n",
       "277       318    317  4.429022      4.392070   \n",
       "659       858    192  4.289062      4.236457   \n",
       "2224     2959    218  4.272936      4.227052   \n",
       "224       260    251  4.231076      4.192646   \n",
       "46         50    204  4.237745      4.190567   \n",
       "\n",
       "                                          title  \n",
       "277            Shawshank Redemption, The (1994)  \n",
       "659                       Godfather, The (1972)  \n",
       "2224                          Fight Club (1999)  \n",
       "224   Star Wars: Episode IV - A New Hope (1977)  \n",
       "46                   Usual Suspects, The (1995)  "
      ]
     },
     "execution_count": 25,
     "metadata": {},
     "output_type": "execute_result"
    }
   ],
   "source": [
    "movie_stats = movie_stats.merge(movies[['movieId', 'title']])\n",
    "movie_stats.sort_values('bayesian_avg', ascending=False).head()"
   ]
  },
  {
   "cell_type": "markdown",
   "metadata": {},
   "source": [
    "Utilizando la media bayesiana, vemos que `Shawshank Redemption`, `The Godfather`, y `The Usual Suspects` son las películas mejor valoradas. Este resultado tiene mucho más sentido ya que estas películas son ampliamente aclamadas por la crítica."
   ]
  },
  {
   "cell_type": "code",
   "execution_count": null,
   "metadata": {},
   "outputs": [],
   "source": [
    "movie_stats.sort_values('bayesian_avg', ascending=True).head()"
   ]
  },
  {
   "cell_type": "markdown",
   "metadata": {},
   "source": [
    "Con el promedio bayesiano, parece que `Speed 2: Cruise Control`, `Battlefield Earth`, y `Godzilla` son las películas peor valoradas. `Gypsy` no es tan mala después de todo."
   ]
  },
  {
   "cell_type": "markdown",
   "metadata": {},
   "source": [
    "### 2. Recomendador basado en contenidos teniendo en cuenta los géneros exactos de las películas\n",
    "\n",
    "Además de recomendar las películas más o menos populares del data set podemos hacer una recomendación basada en contenidos. Los datos que tenemos de las películas son sólo el título, el año y el género, por lo que haremos un recomendador que tenga en cuenta los géneros de las películas. Esto permitirá enriquecer las recomendaciones de forma personalizada según los gustos específicos. En este caso no se aplica similitud sino simplemente un filtro exacto sobre los géneros.\n",
    "\n",
    "Recordamos que en el dataset de películas:\n",
    "- `genres` se expresa como una cadena de texto con un carácter | que separa cada género. \n",
    "\n",
    "Vamos a manipular esta cadena para convertirla en una lista, lo que facilitará su análisis.\n",
    "\n",
    "- `title` actualmente tiene el año entre paréntesis al final. \n",
    "\n",
    "Extraeremos el año de cada cadena de título y crearemos una nueva columna para él."
   ]
  },
  {
   "cell_type": "code",
   "execution_count": 26,
   "metadata": {},
   "outputs": [
    {
     "data": {
      "text/plain": [
       "0       Adventure|Animation|Children|Comedy|Fantasy\n",
       "1                        Adventure|Children|Fantasy\n",
       "2                                    Comedy|Romance\n",
       "3                              Comedy|Drama|Romance\n",
       "4                                            Comedy\n",
       "                           ...                     \n",
       "9737                Action|Animation|Comedy|Fantasy\n",
       "9738                       Animation|Comedy|Fantasy\n",
       "9739                                          Drama\n",
       "9740                               Action|Animation\n",
       "9741                                         Comedy\n",
       "Name: genres, Length: 9742, dtype: object"
      ]
     },
     "execution_count": 26,
     "metadata": {},
     "output_type": "execute_result"
    }
   ],
   "source": [
    "movies['genres']"
   ]
  },
  {
   "cell_type": "code",
   "execution_count": 27,
   "metadata": {},
   "outputs": [
    {
     "data": {
      "text/html": [
       "<div>\n",
       "<style scoped>\n",
       "    .dataframe tbody tr th:only-of-type {\n",
       "        vertical-align: middle;\n",
       "    }\n",
       "\n",
       "    .dataframe tbody tr th {\n",
       "        vertical-align: top;\n",
       "    }\n",
       "\n",
       "    .dataframe thead th {\n",
       "        text-align: right;\n",
       "    }\n",
       "</style>\n",
       "<table border=\"1\" class=\"dataframe\">\n",
       "  <thead>\n",
       "    <tr style=\"text-align: right;\">\n",
       "      <th></th>\n",
       "      <th>movieId</th>\n",
       "      <th>title</th>\n",
       "      <th>genres</th>\n",
       "    </tr>\n",
       "  </thead>\n",
       "  <tbody>\n",
       "    <tr>\n",
       "      <th>0</th>\n",
       "      <td>1</td>\n",
       "      <td>Toy Story (1995)</td>\n",
       "      <td>[Adventure, Animation, Children, Comedy, Fantasy]</td>\n",
       "    </tr>\n",
       "    <tr>\n",
       "      <th>1</th>\n",
       "      <td>2</td>\n",
       "      <td>Jumanji (1995)</td>\n",
       "      <td>[Adventure, Children, Fantasy]</td>\n",
       "    </tr>\n",
       "    <tr>\n",
       "      <th>2</th>\n",
       "      <td>3</td>\n",
       "      <td>Grumpier Old Men (1995)</td>\n",
       "      <td>[Comedy, Romance]</td>\n",
       "    </tr>\n",
       "    <tr>\n",
       "      <th>3</th>\n",
       "      <td>4</td>\n",
       "      <td>Waiting to Exhale (1995)</td>\n",
       "      <td>[Comedy, Drama, Romance]</td>\n",
       "    </tr>\n",
       "    <tr>\n",
       "      <th>4</th>\n",
       "      <td>5</td>\n",
       "      <td>Father of the Bride Part II (1995)</td>\n",
       "      <td>[Comedy]</td>\n",
       "    </tr>\n",
       "  </tbody>\n",
       "</table>\n",
       "</div>"
      ],
      "text/plain": [
       "   movieId                               title  \\\n",
       "0        1                    Toy Story (1995)   \n",
       "1        2                      Jumanji (1995)   \n",
       "2        3             Grumpier Old Men (1995)   \n",
       "3        4            Waiting to Exhale (1995)   \n",
       "4        5  Father of the Bride Part II (1995)   \n",
       "\n",
       "                                              genres  \n",
       "0  [Adventure, Animation, Children, Comedy, Fantasy]  \n",
       "1                     [Adventure, Children, Fantasy]  \n",
       "2                                  [Comedy, Romance]  \n",
       "3                           [Comedy, Drama, Romance]  \n",
       "4                                           [Comedy]  "
      ]
     },
     "execution_count": 27,
     "metadata": {},
     "output_type": "execute_result"
    }
   ],
   "source": [
    "movies['genres'] = movies['genres'].apply(lambda x: x.split(\"|\"))\n",
    "movies.head()"
   ]
  },
  {
   "cell_type": "markdown",
   "metadata": {},
   "source": [
    "Vamos a ver cuántos géneros diferentes hay en el dataset y cuántas películas tenemos de cada género utilizando Counter sobre la Serie de datos de la columna `genres`. "
   ]
  },
  {
   "cell_type": "code",
   "execution_count": null,
   "metadata": {},
   "outputs": [],
   "source": [
    "from collections import Counter\n",
    "genre_frequency = Counter(g for genres in movies['genres'] for g in genres)\n",
    "print(f\"There are {len(genre_frequency)} genres.\")\n",
    "genre_frequency"
   ]
  },
  {
   "cell_type": "code",
   "execution_count": null,
   "metadata": {},
   "outputs": [],
   "source": [
    "print(\"Los 5 géneros más comunes son: \\n\", genre_frequency.most_common(5))"
   ]
  },
  {
   "cell_type": "code",
   "execution_count": null,
   "metadata": {},
   "outputs": [],
   "source": [
    "# movies = pd.read_csv('movies.csv')\n",
    "def recommender_by_genre(genre):\n",
    "    movies_grouped = movies.groupby('genres')\n",
    "    recomendadas = pd.DataFrame()\n",
    "    for key, group in movies_grouped:\n",
    "        recomendadas = pd.concat([recomendadas, group], axis=0)\n",
    "    movies2 = recomendadas.loc[recomendadas['genres'] == genre]\n",
    "    return movies2[['movieId', 'title', 'genres']]"
   ]
  },
  {
   "cell_type": "code",
   "execution_count": null,
   "metadata": {},
   "outputs": [],
   "source": [
    "recommender_by_genre('Animation')"
   ]
  },
  {
   "cell_type": "markdown",
   "metadata": {},
   "source": [
    "### 3. Recomendador basado filtrado colaborativo\n",
    "\n",
    "Vamos a utilizar filtrado colaborativo para generar recomendaciones para los usuarios. Como hemos visto en clase esta técnica se basa en la premisa de que personas similares tienen gustos similares.\n",
    "El primer paso es transformar nuestros datos en una matriz usuario-elemento, también conocida como matriz de \"utilidad\". \n",
    "Como hemos visto en clase, en esta matriz, las filas representan a los usuarios y las columnas representan a las películas. La mejor parte del filtrado colaborativo es que no requiere ninguna información adicional sobre los usuarios o las películas para generar recomendaciones.\n",
    "\n",
    "<img src=\"collaborativeFiltering.png\" width=60%/>\n"
   ]
  },
  {
   "cell_type": "markdown",
   "metadata": {},
   "source": [
    "La función `create_X()` produce una matriz dispersa X con cuatro diccionarios de mapeo:\n",
    "- **user_mapper**: mapea el ID del usuario al índice del usuario.\n",
    "- **movie_mapper**: mapea el ID de la película al índice de la película.\n",
    "- **user_inv_mapper**: mapea el índice del usuario al ID del usuario.\n",
    "- **movie_inv_mapper**: mapea el índice de la película al ID de la película.\n",
    "\n",
    "Necesitamos estos diccionarios porque establecen la correspondencia entre qué fila/columna de la matriz de utilidad se relaciona con qué ID de usuario/película.\n",
    "\n",
    "Esta matriz tiene muchos valores desconocidos y para almacenar la matriz de utilidad (user-item) utilizaremos un tipo de matriz específico [scipy.sparse.csr_matrix](https://docs.scipy.org/doc/scipy-0.14.0/reference/generated/scipy.sparse.csr_matrix.html) que almacena datos dispersos de forma eficiente."
   ]
  },
  {
   "cell_type": "code",
   "execution_count": null,
   "metadata": {},
   "outputs": [],
   "source": [
    "from scipy.sparse import csr_matrix\n",
    "\n",
    "def create_X(df):\n",
    "    \"\"\"\n",
    "    Genera una matriz dispersa a partir del marco de datos de calificaciones.\n",
    "    \n",
    "    Argumentos:\n",
    "        df: dataframe de pandas que contiene 3 columnas (userId, movieId, rating)\n",
    "    \n",
    "    Devoluciones:\n",
    "        X: matriz dispersa\n",
    "        user_mapper: dict que asigna las identificaciones de usuario a los índices de usuario\n",
    "        user_inv_mapper: dict que asigna índices de usuario a ID de usuario\n",
    "        movie_mapper: dict que asigna las identificaciones de películas a los índices de películas\n",
    "        movie_inv_mapper: dict que asigna índices de películas a ID de películas\n",
    "        \n",
    "    \"\"\"\n",
    "    M = df['userId'].nunique()\n",
    "    N = df['movieId'].nunique()\n",
    "\n",
    "    user_mapper = dict(zip(np.unique(df[\"userId\"]), list(range(M))))\n",
    "    movie_mapper = dict(zip(np.unique(df[\"movieId\"]), list(range(N))))\n",
    "    \n",
    "    user_inv_mapper = dict(zip(list(range(M)), np.unique(df[\"userId\"])))\n",
    "    movie_inv_mapper = dict(zip(list(range(N)), np.unique(df[\"movieId\"])))\n",
    "    \n",
    "    user_index = [user_mapper[i] for i in df['userId']]\n",
    "    item_index = [movie_mapper[i] for i in df['movieId']]\n",
    "\n",
    "    X = csr_matrix((df[\"rating\"], (user_index,item_index)), shape=(M,N))\n",
    "    \n",
    "    return X, user_mapper, movie_mapper, user_inv_mapper, movie_inv_mapper"
   ]
  },
  {
   "cell_type": "code",
   "execution_count": null,
   "metadata": {},
   "outputs": [],
   "source": [
    "# Creamos en X una matriz de utilidad usando nuestros datos de ratings. Además disponemos de estructuras para indexar los datos dispersos.\n",
    "X, user_mapper, movie_mapper, user_inv_mapper, movie_inv_mapper = create_X(ratings)"
   ]
  },
  {
   "cell_type": "markdown",
   "metadata": {},
   "source": [
    "Para calcular la dispersión (sparsity) de esta matriz se divide el número total de elementos no vacíos entre el número total de elementos.  El número de elementos almacenados (no vacíos) en nuestra matriz es equivalente al número de ratings en nuestro conjunto de datos. \n",
    "`csr_matrix.nnz` cuenta los valores almacenados (no vacíos) en la matriz de utilidad. El resto de celdas están vacías.\n",
    "\n",
    "Este es problema del inicio en frío (**cold start**) que ocurre cuando hay nuevos usuarios y películas en nuestra matriz que no tienen calificaciones. Es útil verificar qué usuarios y películas tienen pocas (o ninguna) interacciones. \n",
    "Vamos a ver que en estos datos de movielens no hay ningún usuario ni película sin interacciones pero sí hay algunas que tienen muy pocas."
   ]
  },
  {
   "cell_type": "code",
   "execution_count": null,
   "metadata": {},
   "outputs": [],
   "source": [
    "n_total = X.shape[0]*X.shape[1]\n",
    "n_ratings = X.nnz\n",
    "sparsity = n_ratings/n_total\n",
    "print(f\"Matrix sparsity: {round(sparsity*100,2)}%\")"
   ]
  },
  {
   "cell_type": "code",
   "execution_count": null,
   "metadata": {},
   "outputs": [],
   "source": [
    "n_ratings_per_user = X.getnnz(axis=1)\n",
    "\n",
    "print(f\"El usuario más activo ha valorado {n_ratings_per_user.max()} películas.\")\n",
    "print(f\"El usuario menos activo ha valorado {n_ratings_per_user.min()} películas.\")"
   ]
  },
  {
   "cell_type": "code",
   "execution_count": null,
   "metadata": {},
   "outputs": [],
   "source": [
    "n_ratings_per_movie = X.getnnz(axis=0)\n",
    "\n",
    "print(f\"La película más valorada tiene {n_ratings_per_movie.max()} ratings.\")\n",
    "print(f\"La película menos valorada tiene {n_ratings_per_movie.min()} ratings.\")"
   ]
  },
  {
   "cell_type": "code",
   "execution_count": null,
   "metadata": {
    "scrolled": true
   },
   "outputs": [],
   "source": [
    "plt.figure(figsize=(16,4))\n",
    "plt.subplot(1,2,1)\n",
    "sns.kdeplot(n_ratings_per_user, fill=True)\n",
    "plt.xlim(0)\n",
    "plt.title(\"Número de ratings por usuario\", fontsize=14)\n",
    "plt.xlabel(\"Número de ratings por usuario\")\n",
    "plt.ylabel(\"Densidad\")\n",
    "plt.subplot(1,2,2)\n",
    "sns.kdeplot(n_ratings_per_movie, fill=True)\n",
    "plt.xlim(0)\n",
    "plt.title(\"Numero de Ratings por película\", fontsize=14)\n",
    "plt.xlabel(\"Número de ratings por película\")\n",
    "plt.ylabel(\"Densidad\")\n",
    "plt.show()"
   ]
  },
  {
   "cell_type": "markdown",
   "metadata": {},
   "source": [
    "Vamos a normalizar nuestros datos.\n",
    "    - Definimos el sesgo usuario-elemento como: $b_{ui} = \\mu + b_{u} + b_{i}$\n",
    "    - Realizamos la normalización de la media restando $b_{i}$ a los ratings de cada película."
   ]
  },
  {
   "cell_type": "code",
   "execution_count": null,
   "metadata": {},
   "outputs": [],
   "source": [
    "sum_ratings_per_movie = X.sum(axis=0)\n",
    "mean_rating_per_movie = sum_ratings_per_movie/n_ratings_per_movie\n",
    "mean_rating_per_movie"
   ]
  },
  {
   "cell_type": "markdown",
   "metadata": {},
   "source": [
    "Ahora que tenemos la calificación promedio para cada película, vamos a restar esto de nuestra matriz de utilidad. Para hacerlo, necesitamos expandir nuestra matriz 1D `mean_rating_per_movie` en una matriz con la misma forma que nuestra matriz de utilidad `(n_users, n_movies)`. \n",
    "\n",
    "El método `tile` de Numpy es útil para esta tarea."
   ]
  },
  {
   "cell_type": "code",
   "execution_count": null,
   "metadata": {},
   "outputs": [],
   "source": [
    "X_mean_movie = np.tile(mean_rating_per_movie, (X.shape[0],1))"
   ]
  },
  {
   "cell_type": "code",
   "execution_count": null,
   "metadata": {},
   "outputs": [],
   "source": [
    "X_mean_movie.shape"
   ]
  },
  {
   "cell_type": "markdown",
   "metadata": {},
   "source": [
    "`X_mean_movie` es una matriz de forma (n_users, n_movies) en la que cada columna está poblada con la calificación promedio de una película específica.\n",
    "\n",
    "Podemos normalizar fácilmente nuestra matriz X restando `X_mean_movie` de la matriz original `X`."
   ]
  },
  {
   "cell_type": "code",
   "execution_count": null,
   "metadata": {},
   "outputs": [],
   "source": [
    "X_norm = X - csr_matrix(X_mean_movie)"
   ]
  },
  {
   "cell_type": "markdown",
   "metadata": {},
   "source": [
    "Como era de esperar, los valores de `X_norm` son diferentes de los de `X`. Las celdas que estaban vacías en la matriz original ahora están reemplazadas por valores negativos que representan la calificación promedio de una película específica."
   ]
  },
  {
   "cell_type": "code",
   "execution_count": null,
   "metadata": {},
   "outputs": [],
   "source": [
    "print(\"Original X:\", X[0].todense())\n",
    "print(\"Normalized X:\", X_norm[0].todense())"
   ]
  },
  {
   "cell_type": "markdown",
   "metadata": {},
   "source": [
    "#### 3.1.  Recomendaciones con filtrado colaborativo Item-item "
   ]
  },
  {
   "cell_type": "markdown",
   "metadata": {},
   "source": [
    "Vamos a encontrar las $k$ películas que tienen los vectores de participación de usuarios más similares a la película $i$.\n",
    "Utilizaremos el método k-NearestNeighbors (K-NN) de la librería sklearn de python. La librería tiene implementadas algunas medidas de similitud (como la del coseno vista en clase) para comparar los vectores item-item o user-user. \n",
    "Puedes ver la documentación en https://scikit-learn.org/stable/modules/generated/sklearn.neighbors.NearestNeighbors.html#sklearn.neighbors.NearestNeighbors\n"
   ]
  },
  {
   "cell_type": "code",
   "execution_count": null,
   "metadata": {},
   "outputs": [],
   "source": [
    "from sklearn.neighbors import NearestNeighbors\n",
    "\n",
    "def find_similar_movies(movie_id, X, movie_mapper, movie_inv_mapper, k, metric='cosine'):\n",
    "    \"\"\"\n",
    "    Encuentra los k vecinos más cercanos para una película dada.\n",
    "    \n",
    "    Argumentos:\n",
    "        movie_id: id de la película de interés\n",
    "        X: matriz de utilidad user-item\n",
    "        k: número de películas similares que queremos recuperar\n",
    "        métrica: métrica de distancia para los cálculos de kNN\n",
    "    \n",
    "    Salida: devuelve una lista de k ID de películas similares\n",
    "    \"\"\"\n",
    "    X = X.T\n",
    "    neighbour_ids = []\n",
    "    \n",
    "    movie_ind = movie_mapper[movie_id]\n",
    "    movie_vec = X[movie_ind]\n",
    "    if isinstance(movie_vec, (np.ndarray)):\n",
    "        movie_vec = movie_vec.reshape(1,-1)\n",
    "    # usamos k+1 porque la salida kNN incluye la película de ID = movieId\n",
    "    kNN = NearestNeighbors(n_neighbors=k+1, algorithm=\"brute\", metric=metric)\n",
    "    kNN.fit(X)\n",
    "    neighbour = kNN.kneighbors(movie_vec, return_distance=False)\n",
    "    for i in range(0,k):skle\n",
    "        n = neighbour.item(i)\n",
    "        neighbour_ids.append(movie_inv_mapper[n])\n",
    "    neighbour_ids.pop(0)\n",
    "    return neighbour_ids"
   ]
  },
  {
   "cell_type": "markdown",
   "metadata": {},
   "source": [
    "`find_similar_movies()` calcula para un cierto `movieId` y una matriz `X`, una lista de $k$ películas que son similares a la película `movieId` según los vectores de ratings de las películas.\n",
    "`find_similar_movies()` devuelve una lista de los `movieId` que son más similares a la película dada. Vamos a convertirlos a títulos para entender mejor los resultados creando un diccionario con `movieId` y `title`."
   ]
  },
  {
   "cell_type": "code",
   "execution_count": null,
   "metadata": {},
   "outputs": [],
   "source": [
    "similar_movies = find_similar_movies(1, X_norm, movie_mapper, movie_inv_mapper, k=10)\n",
    "similar_movies"
   ]
  },
  {
   "cell_type": "markdown",
   "metadata": {},
   "source": [
    "Estas son las K=10 películas más similares. Como queremos saber los títulos de las películas vamos a crear un mapeado entre movieId y los títulos para que los resultados sean más fáciles de interpretar. "
   ]
  },
  {
   "cell_type": "code",
   "execution_count": null,
   "metadata": {},
   "outputs": [],
   "source": [
    "movie_titles = dict(zip(movies['movieId'], movies['title']))\n",
    "\n",
    "movie_id = 1\n",
    "\n",
    "similar_movies = find_similar_movies(movie_id, X_norm, movie_mapper, movie_inv_mapper, metric='cosine', k=10)\n",
    "movie_title = movie_titles[movie_id]\n",
    "\n",
    "print(f\" Porque has visto ... {movie_title} ... te recomendamos:\")\n",
    "for i in similar_movies:\n",
    "    print(movie_titles[i])"
   ]
  },
  {
   "cell_type": "markdown",
   "metadata": {},
   "source": [
    "Los resultados anteriores muestran las 10 películas más similares a Toy Story. La mayoría de las películas de esta lista son películas _familiares_ de la década de 1990, lo que parece bastante razonable. Hay que tener en cuenta que estas recomendaciones se basan únicamente en las calificaciones de los usuarios. En este enfoque colaborativo **no se utilizan características específicas de las películas** como sus géneros. Si queremos tener en cuenta las características deberíamos usar un enfoque basado en contenidos (_content-based_) como hemos hecho antes. Tambien puedes combinar las dos aproximaciones. "
   ]
  },
  {
   "cell_type": "markdown",
   "metadata": {},
   "source": [
    "Se pueden hacer distintas pruebas con otras métricas kNN utilizando distancia \"manhattan\" o \"euclidea\" en vez de la similitud del \"coseno\". Observa que los resultados son diferentes. Habría que evaluar cual de ellas proporciona unos resultados mejores.\n"
   ]
  },
  {
   "cell_type": "code",
   "execution_count": null,
   "metadata": {},
   "outputs": [],
   "source": [
    "movie_id = 1\n",
    "\n",
    "similar_movies = find_similar_movies(movie_id, X_norm, movie_mapper, movie_inv_mapper, metric='euclidean', k=10)\n",
    "movie_title = movie_titles[movie_id]\n",
    "\n",
    "print(f\"Porque has visto {movie_title} te recomendamos:\")\n",
    "for i in similar_movies:\n",
    "    print(movie_titles[i])"
   ]
  },
  {
   "cell_type": "markdown",
   "metadata": {},
   "source": [
    "### 4. Recomendador basado en contenidos usando similitud del coseno"
   ]
  },
  {
   "cell_type": "markdown",
   "metadata": {},
   "source": [
    "El filtrado colaborativo se basa únicamente en las interacciones entre el usuario y las películas. El problema con este enfoque es que los usuarios nuevos o las películas que no han tenido interaciones (valoraciones) o han tenido muy pcoas quedan excluidos del sistema de recomendación (no tenemos datos sobre los usuarios, ni sobre sus gustos). Esto se llama problema de arranque en frío o _cold-start_. El filtrado basado en contenido (content-based) es una forma de manejar este problema generando recomendaciones basadas en las características del usuario y del elemento."
   ]
  },
  {
   "cell_type": "markdown",
   "metadata": {},
   "source": [
    "Como una película puede tener varios géneros vamos a convertir la columna de los géneros de las películas en características binarias. Lo que queremos es que cada género tenga su propia columna binaria que se rellena con 0 o 1 en la fila de cada película según tenga o no un géneros. Esta representación con un vector binario de generos permite aplicar la similitud del coseno para comparar dos películas según los géneros que comparten."
   ]
  },
  {
   "cell_type": "code",
   "execution_count": null,
   "metadata": {},
   "outputs": [],
   "source": [
    "n_movies = movies['movieId'].nunique()\n",
    "print(f\"Hay {n_movies} películas en el dataset.\")"
   ]
  },
  {
   "cell_type": "code",
   "execution_count": 28,
   "metadata": {},
   "outputs": [],
   "source": [
    "genres = set(g for G in movies['genres'] for g in G)\n",
    "\n",
    "for g in genres:\n",
    "    movies[g] = movies.genres.transform(lambda x: int(g in x))\n",
    "    \n",
    "movie_genres = movies.drop(columns=['movieId', 'title','genres'])"
   ]
  },
  {
   "cell_type": "code",
   "execution_count": 29,
   "metadata": {},
   "outputs": [
    {
     "data": {
      "text/html": [
       "<div>\n",
       "<style scoped>\n",
       "    .dataframe tbody tr th:only-of-type {\n",
       "        vertical-align: middle;\n",
       "    }\n",
       "\n",
       "    .dataframe tbody tr th {\n",
       "        vertical-align: top;\n",
       "    }\n",
       "\n",
       "    .dataframe thead th {\n",
       "        text-align: right;\n",
       "    }\n",
       "</style>\n",
       "<table border=\"1\" class=\"dataframe\">\n",
       "  <thead>\n",
       "    <tr style=\"text-align: right;\">\n",
       "      <th></th>\n",
       "      <th>(no genres listed)</th>\n",
       "      <th>Film-Noir</th>\n",
       "      <th>Children</th>\n",
       "      <th>Horror</th>\n",
       "      <th>Sci-Fi</th>\n",
       "      <th>Adventure</th>\n",
       "      <th>War</th>\n",
       "      <th>Crime</th>\n",
       "      <th>IMAX</th>\n",
       "      <th>Drama</th>\n",
       "      <th>Action</th>\n",
       "      <th>Mystery</th>\n",
       "      <th>Comedy</th>\n",
       "      <th>Documentary</th>\n",
       "      <th>Romance</th>\n",
       "      <th>Musical</th>\n",
       "      <th>Animation</th>\n",
       "      <th>Western</th>\n",
       "      <th>Fantasy</th>\n",
       "      <th>Thriller</th>\n",
       "    </tr>\n",
       "  </thead>\n",
       "  <tbody>\n",
       "    <tr>\n",
       "      <th>0</th>\n",
       "      <td>0</td>\n",
       "      <td>0</td>\n",
       "      <td>1</td>\n",
       "      <td>0</td>\n",
       "      <td>0</td>\n",
       "      <td>1</td>\n",
       "      <td>0</td>\n",
       "      <td>0</td>\n",
       "      <td>0</td>\n",
       "      <td>0</td>\n",
       "      <td>0</td>\n",
       "      <td>0</td>\n",
       "      <td>1</td>\n",
       "      <td>0</td>\n",
       "      <td>0</td>\n",
       "      <td>0</td>\n",
       "      <td>1</td>\n",
       "      <td>0</td>\n",
       "      <td>1</td>\n",
       "      <td>0</td>\n",
       "    </tr>\n",
       "    <tr>\n",
       "      <th>1</th>\n",
       "      <td>0</td>\n",
       "      <td>0</td>\n",
       "      <td>1</td>\n",
       "      <td>0</td>\n",
       "      <td>0</td>\n",
       "      <td>1</td>\n",
       "      <td>0</td>\n",
       "      <td>0</td>\n",
       "      <td>0</td>\n",
       "      <td>0</td>\n",
       "      <td>0</td>\n",
       "      <td>0</td>\n",
       "      <td>0</td>\n",
       "      <td>0</td>\n",
       "      <td>0</td>\n",
       "      <td>0</td>\n",
       "      <td>0</td>\n",
       "      <td>0</td>\n",
       "      <td>1</td>\n",
       "      <td>0</td>\n",
       "    </tr>\n",
       "    <tr>\n",
       "      <th>2</th>\n",
       "      <td>0</td>\n",
       "      <td>0</td>\n",
       "      <td>0</td>\n",
       "      <td>0</td>\n",
       "      <td>0</td>\n",
       "      <td>0</td>\n",
       "      <td>0</td>\n",
       "      <td>0</td>\n",
       "      <td>0</td>\n",
       "      <td>0</td>\n",
       "      <td>0</td>\n",
       "      <td>0</td>\n",
       "      <td>1</td>\n",
       "      <td>0</td>\n",
       "      <td>1</td>\n",
       "      <td>0</td>\n",
       "      <td>0</td>\n",
       "      <td>0</td>\n",
       "      <td>0</td>\n",
       "      <td>0</td>\n",
       "    </tr>\n",
       "    <tr>\n",
       "      <th>3</th>\n",
       "      <td>0</td>\n",
       "      <td>0</td>\n",
       "      <td>0</td>\n",
       "      <td>0</td>\n",
       "      <td>0</td>\n",
       "      <td>0</td>\n",
       "      <td>0</td>\n",
       "      <td>0</td>\n",
       "      <td>0</td>\n",
       "      <td>1</td>\n",
       "      <td>0</td>\n",
       "      <td>0</td>\n",
       "      <td>1</td>\n",
       "      <td>0</td>\n",
       "      <td>1</td>\n",
       "      <td>0</td>\n",
       "      <td>0</td>\n",
       "      <td>0</td>\n",
       "      <td>0</td>\n",
       "      <td>0</td>\n",
       "    </tr>\n",
       "    <tr>\n",
       "      <th>4</th>\n",
       "      <td>0</td>\n",
       "      <td>0</td>\n",
       "      <td>0</td>\n",
       "      <td>0</td>\n",
       "      <td>0</td>\n",
       "      <td>0</td>\n",
       "      <td>0</td>\n",
       "      <td>0</td>\n",
       "      <td>0</td>\n",
       "      <td>0</td>\n",
       "      <td>0</td>\n",
       "      <td>0</td>\n",
       "      <td>1</td>\n",
       "      <td>0</td>\n",
       "      <td>0</td>\n",
       "      <td>0</td>\n",
       "      <td>0</td>\n",
       "      <td>0</td>\n",
       "      <td>0</td>\n",
       "      <td>0</td>\n",
       "    </tr>\n",
       "  </tbody>\n",
       "</table>\n",
       "</div>"
      ],
      "text/plain": [
       "   (no genres listed)  Film-Noir  Children  Horror  Sci-Fi  Adventure  War  \\\n",
       "0                   0          0         1       0       0          1    0   \n",
       "1                   0          0         1       0       0          1    0   \n",
       "2                   0          0         0       0       0          0    0   \n",
       "3                   0          0         0       0       0          0    0   \n",
       "4                   0          0         0       0       0          0    0   \n",
       "\n",
       "   Crime  IMAX  Drama  Action  Mystery  Comedy  Documentary  Romance  Musical  \\\n",
       "0      0     0      0       0        0       1            0        0        0   \n",
       "1      0     0      0       0        0       0            0        0        0   \n",
       "2      0     0      0       0        0       1            0        1        0   \n",
       "3      0     0      1       0        0       1            0        1        0   \n",
       "4      0     0      0       0        0       1            0        0        0   \n",
       "\n",
       "   Animation  Western  Fantasy  Thriller  \n",
       "0          1        0        1         0  \n",
       "1          0        0        1         0  \n",
       "2          0        0        0         0  \n",
       "3          0        0        0         0  \n",
       "4          0        0        0         0  "
      ]
     },
     "execution_count": 29,
     "metadata": {},
     "output_type": "execute_result"
    }
   ],
   "source": [
    "movie_genres.head()"
   ]
  },
  {
   "cell_type": "code",
   "execution_count": 30,
   "metadata": {},
   "outputs": [
    {
     "ename": "ModuleNotFoundError",
     "evalue": "No module named 'sklearn'",
     "output_type": "error",
     "traceback": [
      "\u001b[1;31m---------------------------------------------------------------------------\u001b[0m",
      "\u001b[1;31mModuleNotFoundError\u001b[0m                       Traceback (most recent call last)",
      "Cell \u001b[1;32mIn[30], line 1\u001b[0m\n\u001b[1;32m----> 1\u001b[0m \u001b[38;5;28;01mfrom\u001b[39;00m \u001b[38;5;21;01msklearn\u001b[39;00m\u001b[38;5;21;01m.\u001b[39;00m\u001b[38;5;21;01mmetrics\u001b[39;00m\u001b[38;5;21;01m.\u001b[39;00m\u001b[38;5;21;01mpairwise\u001b[39;00m \u001b[38;5;28;01mimport\u001b[39;00m cosine_similarity\n\u001b[0;32m      2\u001b[0m \u001b[38;5;66;03m# https://scikit-learn.org/stable/modules/metrics.html#cosine-similarity\u001b[39;00m\n\u001b[0;32m      4\u001b[0m cosine_sim \u001b[38;5;241m=\u001b[39m cosine_similarity(movie_genres, movie_genres)\n",
      "\u001b[1;31mModuleNotFoundError\u001b[0m: No module named 'sklearn'"
     ]
    }
   ],
   "source": [
    "from sklearn.metrics.pairwise import cosine_similarity\n",
    "# https://scikit-learn.org/stable/modules/metrics.html#cosine-similarity\n",
    "\n",
    "cosine_sim = cosine_similarity(movie_genres, movie_genres)\n",
    "print(f\"Dimensiones de la matriz de similitud del coseno entre los géneros: {cosine_sim.shape}\")"
   ]
  },
  {
   "cell_type": "markdown",
   "metadata": {},
   "source": [
    "Las dimensiones de nuestra matriz de similitud coseno son $M \\times M$ donde $M$ representa el número total de películas."
   ]
  },
  {
   "cell_type": "code",
   "execution_count": null,
   "metadata": {},
   "outputs": [],
   "source": [
    "# Mostramos la matriz de similitudes entre los géneros. Observa como la columna central es 1.\n",
    "cosine_sim"
   ]
  },
  {
   "cell_type": "code",
   "execution_count": null,
   "metadata": {},
   "outputs": [],
   "source": [
    "def movie_finder(title):\n",
    "    return movies[movies['title'].str.contains(title)]['title'].tolist()\n",
    "\n",
    "movie_finder('Toy Story')"
   ]
  },
  {
   "cell_type": "code",
   "execution_count": null,
   "metadata": {},
   "outputs": [],
   "source": [
    "movie_idx = dict(zip(movies['title'], list(movies.index)))\n",
    "title = movie_finder('Toy Story')[0]\n",
    "n_recommendations = 10\n",
    "\n",
    "idx = movie_idx[title]\n",
    "sim_scores = list(enumerate(cosine_sim[idx]))\n",
    "sim_scores = sorted(sim_scores, key=lambda x: x[1], reverse=True)\n",
    "sim_scores = sim_scores[1:(n_recommendations+1)]\n",
    "similar_movies = [i[0] for i in sim_scores]\n",
    "\n",
    "print(f\"Recomendaciones similares a {title} según la similitud entre sus géneros:\")\n",
    "movies['title'].iloc[similar_movies]"
   ]
  },
  {
   "cell_type": "markdown",
   "metadata": {},
   "source": [
    "Con este enfoque basado en contenidos asumimos que dos películas son \"similares\" si tienen más géneros similares. Estas recomendaciones de \"películas similares\" se basan únicamente en los metadatos de nuestro conjunto de datos de películas. \n",
    "\n",
    "Realiza alguna prueba más con otras películas que te gusten y observa si las recomendaciones son adecuadas."
   ]
  },
  {
   "cell_type": "markdown",
   "metadata": {},
   "source": [
    " ### 5. Recomendador colaborativo user-user usando similitud de Pearson\n",
    "\n",
    "En esta última versión vamos a implementar la medida de similitud de Pearson para obtener los usuarios más similares. \n",
    "En esta versión la recomendación puede usar las preferencias de usuarios parecidos calculando para ello la similitud entre sus vectores de valoraciones. "
   ]
  },
  {
   "cell_type": "code",
   "execution_count": 31,
   "metadata": {},
   "outputs": [],
   "source": [
    "def getUserVotes(user):\n",
    "    return ratings.loc[ratings['userId'] == user, 'rating'].values\n",
    "\n",
    "def getVotedMovies(user):\n",
    "    return ratings.loc[ratings['userId'] == user, 'movieId'].values\n",
    "\n",
    "def getRating(userId, movieId):\n",
    "    data  = ratings.loc[(ratings['userId'] == userId) & (ratings['movieId'] == movieId), 'rating']\n",
    "    if len(data)==0:\n",
    "        return 0\n",
    "    else:\n",
    "        return data.iloc[0]\n",
    "    \n",
    "def getNormalizedRating(userId, movieId):\n",
    "    rating = getRating(userId, movieId)\n",
    "    if rating == 0:\n",
    "        return rating\n",
    "    else:\n",
    "        return rating-getUserVotes(userId).mean()"
   ]
  },
  {
   "cell_type": "code",
   "execution_count": 32,
   "metadata": {},
   "outputs": [],
   "source": [
    "## Calcula la similitud de dos usuarios dados.\n",
    "def sim(a,u):\n",
    "    a_votedMovies = getVotedMovies(a)\n",
    "    u_votedMovies = getVotedMovies(u)\n",
    "\n",
    "    a_votes  = getUserVotes(a)\n",
    "    u_votes  = getUserVotes(u)\n",
    "\n",
    "    a_mean = a_votes.mean()\n",
    "    u_mean = u_votes.mean()\n",
    "\n",
    "    commonVotedMovies = [value for value in a_votedMovies if value in u_votedMovies]\n",
    "    s = len(commonVotedMovies)\n",
    "    if s==0:\n",
    "        return 0\n",
    "    \n",
    "    a_votes = [getRating(a, movieId) for movieId in commonVotedMovies]\n",
    "    u_votes = [getRating(u, movieId) for movieId in commonVotedMovies]\n",
    "    a_votes_norm = [v - a_mean for v in a_votes]\n",
    "    u_votes_norm = [v - u_mean for v in u_votes]\n",
    "    \n",
    "    dot = np.multiply(a_votes_norm, u_votes_norm)\n",
    "    sum_dot = np.sum(dot)\n",
    "    std  = (np.std(a_votes) * np.std(u_votes))\n",
    "    if std==0:\n",
    "        std = 1\n",
    "    \n",
    "    f  = 50 #Debería ser la media de peliculas en común de todo el dataset\n",
    "    sim = sum_dot * s / std / f\n",
    "    return sim"
   ]
  },
  {
   "cell_type": "code",
   "execution_count": null,
   "metadata": {},
   "outputs": [],
   "source": []
  },
  {
   "cell_type": "code",
   "execution_count": 33,
   "metadata": {},
   "outputs": [],
   "source": [
    "# Recupera k usuarios más similares al usuario con idUSer=a\n",
    "def getKMostSimilarUsers(a,k):\n",
    "    users = ratings.userId.unique()\n",
    "    similarity = [sim(a,u) for u in users]\n",
    "    data = {'User': users,\n",
    "        'Similarity': similarity}\n",
    "    simTable = pd.DataFrame(data)\n",
    "    simTable = simTable[simTable.User !=a]\n",
    "    simTable = simTable.sort_values('Similarity',ascending=False)\n",
    "    return simTable.head(k)    "
   ]
  },
  {
   "cell_type": "code",
   "execution_count": 35,
   "metadata": {},
   "outputs": [
    {
     "data": {
      "text/html": [
       "<div>\n",
       "<style scoped>\n",
       "    .dataframe tbody tr th:only-of-type {\n",
       "        vertical-align: middle;\n",
       "    }\n",
       "\n",
       "    .dataframe tbody tr th {\n",
       "        vertical-align: top;\n",
       "    }\n",
       "\n",
       "    .dataframe thead th {\n",
       "        text-align: right;\n",
       "    }\n",
       "</style>\n",
       "<table border=\"1\" class=\"dataframe\">\n",
       "  <thead>\n",
       "    <tr style=\"text-align: right;\">\n",
       "      <th></th>\n",
       "      <th>User</th>\n",
       "      <th>Similarity</th>\n",
       "    </tr>\n",
       "  </thead>\n",
       "  <tbody>\n",
       "    <tr>\n",
       "      <th>609</th>\n",
       "      <td>610</td>\n",
       "      <td>3.121932</td>\n",
       "    </tr>\n",
       "    <tr>\n",
       "      <th>110</th>\n",
       "      <td>111</td>\n",
       "      <td>2.955717</td>\n",
       "    </tr>\n",
       "    <tr>\n",
       "      <th>297</th>\n",
       "      <td>298</td>\n",
       "      <td>2.756163</td>\n",
       "    </tr>\n",
       "    <tr>\n",
       "      <th>494</th>\n",
       "      <td>495</td>\n",
       "      <td>2.695247</td>\n",
       "    </tr>\n",
       "    <tr>\n",
       "      <th>248</th>\n",
       "      <td>249</td>\n",
       "      <td>2.623065</td>\n",
       "    </tr>\n",
       "  </tbody>\n",
       "</table>\n",
       "</div>"
      ],
      "text/plain": [
       "     User  Similarity\n",
       "609   610    3.121932\n",
       "110   111    2.955717\n",
       "297   298    2.756163\n",
       "494   495    2.695247\n",
       "248   249    2.623065"
      ]
     },
     "execution_count": 35,
     "metadata": {},
     "output_type": "execute_result"
    }
   ],
   "source": [
    "getKMostSimilarUsers(2,5)"
   ]
  },
  {
   "cell_type": "markdown",
   "metadata": {},
   "source": [
    "### Evaluación de recomendadores"
   ]
  },
  {
   "attachments": {
    "image.png": {
     "image/png": "[encoded data removed]"
    }
   },
   "cell_type": "markdown",
   "metadata": {},
   "source": [
    "Podemos observar cómo funciona el sistema para hacernos a la idea de cómo funciona, pero ¿cómo sabemos si nuestras recomendaciones son realmente buenas? \n",
    "Una manera de evaluar nuestro sistema es probarlo con usuarios reales haciendo pruebas de usabilidad, donde podemos obtener comentarios directos de los usuarios. Sin embargo, esta opción no siempre está disponible, lo que significa que debemos utilizar métricas calculadas sobre los resultados.\n",
    "\n",
    "En el aprendizaje automático tradicional, evaluamos un modelo dividiendo nuestros datos en dos conjuntos: \n",
    "- \"conjunto de entrenamiento\" \n",
    "- \"conjunto de validación\"\n",
    "    \n",
    "![image.png](attachment:image.png)\n",
    "\n",
    "Y se puede hacer validación cruzada repitiendo este proceso de dividir los datos en dos conjuntos varias veces y luego hacer la media de los resultados.\n",
    "\n",
    "En los sistemas de recomendación generamos nuestro \"conjunto de entrenamiento\" enmascarando interacciones aleatorias en nuestra matriz usuario-elemento. En otras palabras, hacemos como que no sabemos si a un usuario le gustó una cierta Película \"A\", pero en realidad sí lo sabemos. Una vez que entrenamos nuestro modelo y generamos nuestras predicciones de calificación, podemos comparar nuestra calificación prevista con la calificación real."
   ]
  },
  {
   "cell_type": "markdown",
   "metadata": {},
   "source": [
    "Hay varias formas de comparar la calificación (rating) calculado por el sistema con la calificación real (que sabemos). Las más comunes son:\n",
    "    \n",
    "1) Error cuadrático medio (RMSE, Root Mean Squared Error): $\\text{RMSE} = \\sqrt{\\frac{\\Sigma^N_{i=1}(y-\\hat{y})^2}{N}}$\n",
    "\n",
    "2) Precision: $\\text{Precision} = \\frac{TP}{TP+FP}$\n",
    "\n",
    "3) Recall: $\\text{Recall} = \\frac{TP}{TP+FN}$"
   ]
  }
 ],
 "metadata": {
  "kernelspec": {
   "display_name": "Python 3 (ipykernel)",
   "language": "python",
   "name": "python3"
  },
  "language_info": {
   "codemirror_mode": {
    "name": "ipython",
    "version": 3
   },
   "file_extension": ".py",
   "mimetype": "text/x-python",
   "name": "python",
   "nbconvert_exporter": "python",
   "pygments_lexer": "ipython3",
   "version": "3.11.7"
  }
 },
 "nbformat": 4,
 "nbformat_minor": 2
}
