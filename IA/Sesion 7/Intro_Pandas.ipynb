{
 "cells": [
  {
   "cell_type": "markdown",
   "metadata": {
    "id": "-7lZWy2AYwDY"
   },
   "source": [
    "# Introducción rápida a Pandas"
   ]
  },
  {
   "cell_type": "markdown",
   "metadata": {
    "id": "WtGsZ624YwDg"
   },
   "source": [
    "## Intro a Pandas"
   ]
  },
  {
   "cell_type": "markdown",
   "metadata": {
    "id": "EhfO6_eZYwDj"
   },
   "source": [
    "Pandas proporciona la capacidad de trabajar de manera eficiente con **tablas de datos**. Este tipo de objeto es habitual en estadística, aprendizaje automático y ciencia de datos en general. \n",
    "\n",
    "En este notebook sólo vamos a ver una pocas operaciones que nos serán útiles para trabajar con conjuntos de datos, pero es recomendable usar la documentación.\n",
    "\n",
    "https://pandas.pydata.org/"
   ]
  },
  {
   "cell_type": "code",
   "execution_count": null,
   "metadata": {
    "id": "t91pjIFIZB7e"
   },
   "outputs": [],
   "source": [
    "import numpy as np\n",
    "import pandas as pd"
   ]
  },
  {
   "cell_type": "markdown",
   "metadata": {
    "id": "adGlaKHnYwDm"
   },
   "source": [
    "### Creación de dataframes a partir de ficheros de datos"
   ]
  },
  {
   "cell_type": "markdown",
   "metadata": {
    "id": "1YMhN2IZYwDp"
   },
   "source": [
    "Existen utilidades para cargar dataframes a partir de ficheros csv, excel, etc. por ejemplo [pandas.read_csv()](https://pandas.pydata.org/docs/reference/api/pandas.read_csv.html) o [pandas.read_excel()](https://pandas.pydata.org/docs/reference/api/pandas.read_excel.html).\n",
    "\n",
    "Podemos usarlas para cargar datos de forma más ágil."
   ]
  },
  {
   "cell_type": "code",
   "execution_count": null,
   "metadata": {
    "colab": {
     "base_uri": "https://localhost:8080/",
     "height": 424
    },
    "id": "TcowxprMYwDr",
    "outputId": "2608a052-c2f2-4525-d44c-6fbea70832a9"
   },
   "outputs": [],
   "source": [
    "df_csv = pd.read_csv('mpg.csv', index_col = 0)\n",
    "df_csv"
   ]
  },
  {
   "cell_type": "code",
   "execution_count": null,
   "metadata": {},
   "outputs": [],
   "source": [
    "modelos = df_csv.model\n",
    "#comprobamos si hay algún valor nulo en la columna de modelos\n",
    "modelos.isnull().sum()"
   ]
  },
  {
   "cell_type": "markdown",
   "metadata": {
    "id": "Eo1i8-hjYwDv"
   },
   "source": [
    "### Creación de dataframes a partir de diccionarios"
   ]
  },
  {
   "cell_type": "markdown",
   "metadata": {
    "id": "6Uzb1l-CYwDw"
   },
   "source": [
    "Un _dataframe_ representa una tabla bidimensional de datos. Los datos están organizados por filas y columnas. Cada columna tiene un nombre y cada fila una etiqueta. La secuencia de etiquetas es el índice de la tabla."
   ]
  },
  {
   "cell_type": "code",
   "execution_count": null,
   "metadata": {
    "colab": {
     "base_uri": "https://localhost:8080/",
     "height": 175
    },
    "id": "_CjJ7GChYwDy",
    "outputId": "947d8dd7-f47b-419d-ed2d-86b7430df9df"
   },
   "outputs": [],
   "source": [
    "# Creación a partir de un diccionario\n",
    "cars = {'Brand': ['Honda Civic','Toyota Corolla','Ford Focus','Audi A4'],\n",
    "        'Price': [22000,25000,27000,35000]}\n",
    "\n",
    "# Si no se especifican las columnas se usan todas\n",
    "df = pd.DataFrame(cars, columns=['Brand', 'Price'])\n",
    "df"
   ]
  },
  {
   "cell_type": "code",
   "execution_count": null,
   "metadata": {
    "id": "VByni26KYwD0",
    "outputId": "6fe9aa8d-8af0-4e32-bd21-49bb0b640b91"
   },
   "outputs": [],
   "source": [
    "# En este caso el índice son las etiquetas 0, 1, 2, 3\n",
    "df.index"
   ]
  },
  {
   "cell_type": "code",
   "execution_count": null,
   "metadata": {
    "colab": {
     "base_uri": "https://localhost:8080/"
    },
    "id": "vamR4C22YwD2",
    "outputId": "a030f756-0b5b-47ff-c03f-e3a85776328c"
   },
   "outputs": [],
   "source": [
    "# También podemos acceder a las columnas\n",
    "df.columns"
   ]
  },
  {
   "cell_type": "code",
   "execution_count": null,
   "metadata": {
    "colab": {
     "base_uri": "https://localhost:8080/",
     "height": 865
    },
    "id": "IU5qp6lcYwD4",
    "outputId": "46238d63-5c31-4618-ab40-1df60a95684e"
   },
   "outputs": [],
   "source": [
    "# También podemos crear un dataframe a partir de arrays o listas\n",
    "datos = [['Audi', 'A1', 19120], \n",
    "         ['Audi', 'A3', 25740], \n",
    "         ['Audi', 'A4', 38160], \n",
    "         ['Audi', 'A5', 40800], \n",
    "         ['BMW', 'Serie 1', 28800], \n",
    "         ['BMW', 'Serie 2', 30520], \n",
    "         ['BMW', 'Serie 2 Active Tourer', 25630], \n",
    "         ['BMW', 'Serie 3', 39965], \n",
    "         ['Citroen', 'C1', 10790], \n",
    "         ['Citroen', 'C3 Aircross', 13690], \n",
    "         ['Citroen', 'C3', 10990], \n",
    "         ['Citroen', 'C-Elysée', 12290], \n",
    "         ['Citroen', 'C4 Cactus', 14090], \n",
    "         ['Citroen', 'C4 SpaceTourer', 20490], \n",
    "         ['Opel', 'Corsa', 10900], \n",
    "         ['Opel', 'Astra', 18550], \n",
    "         ['Opel', 'Insignia', 25208], \n",
    "         ['Opel', 'Crossland X', 16950], \n",
    "         ['Opel', 'Grandland X', 23600], \n",
    "         ['SEAT', 'Mii', 9990], \n",
    "         ['SEAT', 'Ibiza', 10990], \n",
    "         ['SEAT', 'León', 16400], \n",
    "         ['SEAT', 'Alhambra', 27650], \n",
    "         ['SEAT', 'Ateca', 18990], \n",
    "         ['SEAT', 'Arona', 14500], \n",
    "         ['SEAT', 'Tarraco', 26700]]\n",
    "\n",
    "df = pd.DataFrame(data=datos, columns=['Brand', 'Model', 'Price']) \n",
    "df"
   ]
  },
  {
   "cell_type": "code",
   "execution_count": null,
   "metadata": {
    "id": "97D49P2kYwD7",
    "outputId": "0c39680f-96dc-48d2-c590-da042cd1532c"
   },
   "outputs": [],
   "source": [
    "# Tamaño del dataframe (filas, columnas)\n",
    "df.shape"
   ]
  },
  {
   "cell_type": "code",
   "execution_count": null,
   "metadata": {
    "id": "PwjP3urrYwD-",
    "outputId": "0737bdf2-f014-4c12-9b02-79bee27887e1"
   },
   "outputs": [],
   "source": [
    "# Podemos acceder al array de datos en cualquier momento\n",
    "df.values"
   ]
  },
  {
   "cell_type": "markdown",
   "metadata": {
    "id": "b2Ij5qkoYwD_"
   },
   "source": [
    "### Exploración del data frame"
   ]
  },
  {
   "cell_type": "markdown",
   "metadata": {
    "id": "6I7B5AaxYwEA"
   },
   "source": [
    "Una vez cargados los datos en un dataframe es conveniente echar un vistazo al data frame. \n",
    "\n",
    "Esto es especialmente cierto cuando cargamos los datos de un archivo porque el proceso de carga ha podido dar errores que han pasado inadvertidos: cargar mal alguna columna o valor concreto, cargar las filas descabaladas o sin el nombre de las columnas, que haya problemas en la últimas filas...\n"
   ]
  },
  {
   "cell_type": "code",
   "execution_count": null,
   "metadata": {
    "id": "9zzPsx6wYwEB",
    "outputId": "e803feab-39d4-46e3-8f26-8e96d355a724"
   },
   "outputs": [],
   "source": [
    "# Mostrar las primeras filas\n",
    "df.head()"
   ]
  },
  {
   "cell_type": "code",
   "execution_count": null,
   "metadata": {
    "id": "u5HvUeLaYwED",
    "outputId": "3114bfc8-72b1-4863-a963-36a239799367"
   },
   "outputs": [],
   "source": [
    "# Mostrar las últimas 2 filas\n",
    "df.tail(2)"
   ]
  },
  {
   "cell_type": "code",
   "execution_count": null,
   "metadata": {
    "colab": {
     "base_uri": "https://localhost:8080/",
     "height": 865
    },
    "id": "k8j9xJDAYwED",
    "outputId": "f7f8bb6b-d4ca-4f59-88c4-76bdef5d1cc8"
   },
   "outputs": [],
   "source": [
    "# Reordenar los datos\n",
    "df.sort_values(by='Model')"
   ]
  },
  {
   "cell_type": "markdown",
   "metadata": {
    "id": "Eobbs4fyYwEE"
   },
   "source": [
    "Es importante saber que las mayoría de las operaciones de los dataframes no alteran el dataframe original, devuelven un nuevo dataframe. Eso no quiere decir que los datos de dupliquen en memoria. Los datos se almacenan una única vez pero se indexan de distintas formas. Un dataframe es una _vista_ de una tabla de datos. "
   ]
  },
  {
   "cell_type": "code",
   "execution_count": null,
   "metadata": {
    "id": "SrBibriAYwEF",
    "outputId": "44b8c1cc-f43f-47f7-fe12-2f153778fa06"
   },
   "outputs": [],
   "source": [
    "df2 = df.sort_values(by='Price')\n",
    "df2.head(10)"
   ]
  },
  {
   "cell_type": "code",
   "execution_count": null,
   "metadata": {
    "id": "2KjUxXagYwEG",
    "outputId": "0e0cf9d9-642e-411a-af3c-3588a7f6a9f3"
   },
   "outputs": [],
   "source": [
    "df.head(10)"
   ]
  },
  {
   "cell_type": "markdown",
   "metadata": {
    "id": "w7Uz81MiYwEH"
   },
   "source": [
    "### Selección"
   ]
  },
  {
   "cell_type": "code",
   "execution_count": null,
   "metadata": {
    "id": "g-8p4yDiYwEI",
    "outputId": "8cca9ced-460b-4d42-f9a4-31fa323faa33"
   },
   "outputs": [],
   "source": [
    "# Seleccionar una columna particular\n",
    "# Las columnas de un Dataframe se representan mediante un tipo de datos llamado Serie que\n",
    "# contiene el índice y la columna de datos\n",
    "df['Price']"
   ]
  },
  {
   "cell_type": "code",
   "execution_count": null,
   "metadata": {
    "id": "ilGmZ1BqYwEJ",
    "outputId": "2c54db81-951b-44be-e0c3-63073cd51c38"
   },
   "outputs": [],
   "source": [
    "# Seleccionar un conjunto de filas\n",
    "df[0:5]"
   ]
  },
  {
   "cell_type": "code",
   "execution_count": null,
   "metadata": {
    "id": "Kww3_cvhYwEK",
    "outputId": "ad2dd51c-b829-4c76-ada3-fb805022987f"
   },
   "outputs": [],
   "source": [
    "# Seleccionar una parte del dataframe\n",
    "# La operación loc nos permite seleccionar las etiquetas de filas y columnas que deseamos\n",
    "df.loc[0:5, ['Model', 'Price']]"
   ]
  },
  {
   "cell_type": "code",
   "execution_count": null,
   "metadata": {
    "id": "OiEnRVrxYwEK",
    "outputId": "c66a9692-b251-40ad-ca9c-fcf150608276"
   },
   "outputs": [],
   "source": [
    "# Recordemos que estas operaciones no modifican el dataframe original, \n",
    "# devuelven otro dataframe que es una vista\n",
    "df2 = df.loc[0:5, ['Model', 'Price']]\n",
    "df2"
   ]
  },
  {
   "cell_type": "code",
   "execution_count": null,
   "metadata": {
    "id": "D-3Hc6sxYwEL",
    "outputId": "7ceea385-d6f7-4b88-ff19-d9883c8145c1"
   },
   "outputs": [],
   "source": [
    "df.head(10)"
   ]
  },
  {
   "cell_type": "code",
   "execution_count": null,
   "metadata": {
    "id": "ikFE1MtEYwEM",
    "outputId": "1fa8d6ac-fea3-48b9-e227-35fbf096ec42"
   },
   "outputs": [],
   "source": [
    "# Seleccionar todas las filas y sólo dos columnas\n",
    "df.loc[:, ['Brand', 'Model']]"
   ]
  },
  {
   "cell_type": "markdown",
   "metadata": {
    "id": "0M4Fs6vfYwEN"
   },
   "source": [
    "La operacion .loc permite seleccionar trozos del dataframe original a partir de las etiquetas de las filas y las columnas. Existe otra operación .iloc que permite seleccionar trozos del datframe original a partir de las posiciones de las filas y columnas."
   ]
  },
  {
   "cell_type": "code",
   "execution_count": null,
   "metadata": {
    "id": "NiK6-rvBYwEO",
    "outputId": "bcd8b9a8-d435-4dd5-b8de-4e5e23ee6f69"
   },
   "outputs": [],
   "source": [
    "df.iloc[0:5, 0:2]"
   ]
  },
  {
   "cell_type": "markdown",
   "metadata": {
    "id": "tQ7gDkSMYwEQ"
   },
   "source": [
    "Es muy interesante la opción de seleccionar ciertas filas en base a una máscara de booleanos"
   ]
  },
  {
   "cell_type": "code",
   "execution_count": null,
   "metadata": {
    "id": "hyKqxoM-YwEQ",
    "outputId": "8d874744-d0ef-42a8-e632-7e09d055cf71"
   },
   "outputs": [],
   "source": [
    "# máscaras de booleanos\n",
    "df['Price'] < 20000"
   ]
  },
  {
   "cell_type": "code",
   "execution_count": null,
   "metadata": {
    "id": "IJyq1bgLYwER",
    "outputId": "a1c86b45-2910-4125-ae47-e376ff4d0a5c"
   },
   "outputs": [],
   "source": [
    "# Seleccionar las filas que cumplen la condición\n",
    "df2 = df[df['Price'] < 20000]\n",
    "df2"
   ]
  },
  {
   "cell_type": "code",
   "execution_count": null,
   "metadata": {
    "id": "PjmWA8pvYwET",
    "outputId": "ac75d15c-7a70-4dfa-f117-261288cf01ae"
   },
   "outputs": [],
   "source": [
    "# Contar valores distintos de una columna\n",
    "df['Brand'].value_counts()"
   ]
  },
  {
   "cell_type": "markdown",
   "metadata": {
    "id": "DjPBSjK4YwET"
   },
   "source": [
    "### Problemas con las vistas de los data frames: Forzando la copia"
   ]
  },
  {
   "cell_type": "markdown",
   "metadata": {
    "id": "V9V4forbYwET"
   },
   "source": [
    "Como hemos mencionado, cuando tomamos una selección o *slice* de un data frame no se hace un data frame nuevo, sino una vista del original. Esto que sucede también en numpy, es más problemático en el caso de los data frames de Pandas ya que el comportamiento, si bien es predecible, tiene una casuística amplia que lo hace menos intuitivo. Puedes leer más sobre el tema [aquí](https://www.practicaldatascience.org/html/views_and_copies_in_pandas.html).\n",
    "\n",
    "Ante esto, podemos optar por una forma de proceder sencilla que nos ahorrará problemas:\n",
    "- Si lo que quieres es simplemente ver el contenido de la selección de forma inmediata, usa una vista mediante selección o slice.\n",
    "- Si tienes como objetivo modificar la vista, para no tener que saber cuándo se propagan los cambios al data frame original y cuándo no, lo mejor es que fuerces la copia como se muestra a continuación"
   ]
  },
  {
   "cell_type": "code",
   "execution_count": null,
   "metadata": {
    "id": "cUdP-9w1YwET",
    "outputId": "41701c5b-c73d-4f6a-9fde-436df0b2a0f1"
   },
   "outputs": [],
   "source": [
    "# Haciendo una copia de una selección\n",
    "mi_copia = df.iloc[1:3,].copy()\n",
    "mi_copia"
   ]
  },
  {
   "cell_type": "markdown",
   "metadata": {
    "id": "6BgeYe7hYwEU"
   },
   "source": [
    "### Añadir y eliminar columnas"
   ]
  },
  {
   "cell_type": "code",
   "execution_count": null,
   "metadata": {
    "id": "czVr9noMYwEV",
    "outputId": "881a1b4f-afb1-4615-f74f-81bc8d95f64f"
   },
   "outputs": [],
   "source": [
    "# Añadir una nueva columna en función de otra\n",
    "df['Price_K'] = df['Price'] / 1000\n",
    "df.head()"
   ]
  },
  {
   "cell_type": "code",
   "execution_count": null,
   "metadata": {
    "id": "iV0BJPGKYwEW",
    "outputId": "3b967f7c-b531-4c32-c083-e78f112b5b1f"
   },
   "outputs": [],
   "source": [
    "# Eliminar una columna\n",
    "# axis=1 para eliminar columnas y axis=0 para eliminar filas\n",
    "# Recuerda que la operación no modifica el dataframe original si no hacemos la asignación\n",
    "df = df.drop(['Price_K'], axis=1)\n",
    "df.head()"
   ]
  },
  {
   "cell_type": "markdown",
   "metadata": {
    "id": "-DUgBZa4YwEX"
   },
   "source": [
    "### Modificar valores"
   ]
  },
  {
   "cell_type": "code",
   "execution_count": null,
   "metadata": {
    "id": "Zyl-tcSlYwEY",
    "outputId": "bee4c39a-7451-40ec-9dfd-0d29ac1bd570"
   },
   "outputs": [],
   "source": [
    "# Crear una nueva columna\n",
    "df['Type'] = 'Cheap'\n",
    "df"
   ]
  },
  {
   "cell_type": "code",
   "execution_count": null,
   "metadata": {
    "id": "wSVxkcB4YwEY",
    "outputId": "a8562d2b-b0c6-437b-9dc4-fa140ea1d23d"
   },
   "outputs": [],
   "source": [
    "# Podemos modificar sólo ciertos elementos\n",
    "df.loc[df['Price'] > 20000, 'Type'] = 'Expensive'\n",
    "df"
   ]
  },
  {
   "cell_type": "code",
   "execution_count": null,
   "metadata": {
    "id": "xLxmKXRYYwEZ",
    "outputId": "698afdf8-e21e-43e3-fbb9-e2eb7a2ef1ab"
   },
   "outputs": [],
   "source": [
    "df = df.drop(['Type'], axis=1)\n",
    "df.head()"
   ]
  },
  {
   "cell_type": "markdown",
   "metadata": {
    "id": "Mk9i4x6MYwEa"
   },
   "source": [
    "### Descripción estadística de los datos"
   ]
  },
  {
   "cell_type": "markdown",
   "metadata": {
    "id": "qnljdp8SYwEa"
   },
   "source": [
    "Es posible realizar una descripción estadística de los datos usando funciones del data frame. Aunque no son muy avanzadas pueden ser muy informativas."
   ]
  },
  {
   "cell_type": "code",
   "execution_count": null,
   "metadata": {
    "colab": {
     "base_uri": "https://localhost:8080/",
     "height": 394
    },
    "id": "ch0z0lRoYwEb",
    "outputId": "fd072783-d699-4ed6-9a34-83638e92afaf"
   },
   "outputs": [],
   "source": [
    "# Descriptores estadísticos de los datos\n",
    "# Dependiendo de si son cuantitativos o cualitativos aparecen distintos descriptores\n",
    "df.describe(include='all')"
   ]
  },
  {
   "cell_type": "markdown",
   "metadata": {
    "id": "ym94IBcfYwEc"
   },
   "source": [
    "Los estadísticos que se muestran son.\n",
    "- Para todas las columnas\n",
    "    - `count`: Son los valores válidos observados (incluyendo repeticiones)\n",
    "- Para las columnas con valores cualitativos (eg. strings) y timestamps, entre otros\n",
    "    - `unique`: Valores únicos observados (es decir, sin repetición)\n",
    "    - `top`: Valor más repetido \n",
    "    - `freq`: Frecuencia del valor más repetido\n",
    "- Para las columnas con valores numéricos\n",
    "    - `mean`: Media aritmética\n",
    "    - `std`: Desviación típica\n",
    "    - `min`: Valor mínimo observado\n",
    "    - `25%`: Percentil del 25% (o primer cuartil), es decir, el valor que deja a su izquierda el 25% de los datos\n",
    "    - `50%`: Percentil del 50% (o segundo cuartil, o mediana), es decir, el valor que deja a su izquierda el 50% de los datos\n",
    "    - `75%`: Percentil del 75% (o tercer cuartil), es decir, el valor que deja a su izquierda el 25% de los datos\n",
    "    - `max`: Valor máximo observado"
   ]
  },
  {
   "cell_type": "markdown",
   "metadata": {
    "id": "7A32N9XKYwEd"
   },
   "source": [
    "Podemos presentar la tabla anterior de forma más legible. Concretamente: \n",
    "- Mostrar la transpuesta de la tabla anterior\n",
    "- Evitar los antiestéticos `NaN` mostrando dos tablas: una para las variables categóricas y otra para las numéricas"
   ]
  },
  {
   "cell_type": "code",
   "execution_count": null,
   "metadata": {
    "colab": {
     "base_uri": "https://localhost:8080/",
     "height": 81
    },
    "id": "KdgjWD3bYwEe",
    "outputId": "6367cdef-54d2-4dea-f878-8a69d74724a6"
   },
   "outputs": [],
   "source": [
    "# Para seleccionar las variables numéricas no hay que indicar nada\n",
    "df.describe().transpose()"
   ]
  },
  {
   "cell_type": "code",
   "execution_count": null,
   "metadata": {
    "colab": {
     "base_uri": "https://localhost:8080/",
     "height": 112
    },
    "id": "ZXJqF1BRYwEf",
    "outputId": "d01f3ab7-9fb0-4e30-fb30-7eb81d3db60d"
   },
   "outputs": [],
   "source": [
    "# Las variables categóricas requieren una selección por el tipo de variable\n",
    "df.describe(include=['object']).transpose()\n"
   ]
  },
  {
   "cell_type": "markdown",
   "metadata": {
    "id": "U9y6go09YwEg"
   },
   "source": [
    "#### Descripción de los datos agrupados "
   ]
  },
  {
   "cell_type": "markdown",
   "metadata": {
    "id": "IAcRKM2WYwEh"
   },
   "source": [
    "Puede ser muy interesante obtener los estadísitcos descriptivos pero para los valores concretos de una variable de especial interés para nosotros (por ejemplo, la variable objetivo en un problema de clasificación).\n",
    "\n",
    "Veamos cómo hacerlo en nuestra tabla de juguete.\n",
    "\n"
   ]
  },
  {
   "cell_type": "code",
   "execution_count": null,
   "metadata": {
    "colab": {
     "base_uri": "https://localhost:8080/",
     "height": 269
    },
    "id": "GdhXry39YwEh",
    "outputId": "01e43375-be30-4492-efb0-8efb4f67eab9"
   },
   "outputs": [],
   "source": [
    "# Veamos cómo queda para las variable numérica\n",
    "df.groupby('Brand').describe()"
   ]
  },
  {
   "cell_type": "markdown",
   "metadata": {
    "id": "JRCVWuFabA4D"
   },
   "source": [
    "Podemos sacar una tabla de contingencia que analice los valores de dos variables categóricas de forma cruzada.\n",
    "\n",
    "En el caso de nuestro ejemplo no aporta mucha información adicional, más allá de sacar qué modelos existen para una determinada marca."
   ]
  },
  {
   "cell_type": "code",
   "execution_count": null,
   "metadata": {
    "colab": {
     "base_uri": "https://localhost:8080/",
     "height": 354
    },
    "id": "X04m2O9-YwEj",
    "outputId": "b794d757-25bc-4d3a-9a88-246194c5eacf"
   },
   "outputs": [],
   "source": [
    "pd.crosstab(df['Brand'], df['Model'], rownames=['Marca'], colnames=['Modelo'])"
   ]
  },
  {
   "cell_type": "markdown",
   "metadata": {
    "id": "V0A3QYA4YwEj"
   },
   "source": [
    "### Visualización de la tabla de datos"
   ]
  },
  {
   "cell_type": "code",
   "execution_count": null,
   "metadata": {
    "id": "Ofjoy4Sg3U81"
   },
   "outputs": [],
   "source": [
    "# Para que los gráficos nos aparezcan en los notebooks\n",
    "%matplotlib inline"
   ]
  },
  {
   "cell_type": "code",
   "execution_count": null,
   "metadata": {
    "colab": {
     "base_uri": "https://localhost:8080/",
     "height": 283
    },
    "id": "iS0WV3SCYwEk",
    "outputId": "0fd63a8c-9ac5-482b-88ed-df0fe0375518"
   },
   "outputs": [],
   "source": [
    "# Diagrama de barras mostrando cuántas veces aparece cada marca\n",
    "df['Brand'].hist()"
   ]
  },
  {
   "cell_type": "markdown",
   "metadata": {
    "id": "1JVKcBYWdGcy"
   },
   "source": [
    "En general, los gráficos de tarta son peores de los de barra porque a las personas nos cuesta mucho más comparar ángulos que longitudes. No obstante, también podemos calcularlos."
   ]
  },
  {
   "cell_type": "code",
   "execution_count": null,
   "metadata": {
    "colab": {
     "base_uri": "https://localhost:8080/",
     "height": 266
    },
    "id": "1kHiZOPNYwEl",
    "outputId": "d77c3424-c2db-4652-bee3-0cb594155bf1"
   },
   "outputs": [],
   "source": [
    "# Cuántas veces aparece cada marca como tarta\n",
    "df['Brand'].value_counts().plot.pie()"
   ]
  },
  {
   "cell_type": "code",
   "execution_count": null,
   "metadata": {
    "colab": {
     "base_uri": "https://localhost:8080/",
     "height": 297
    },
    "id": "4Uxig6IQYwEl",
    "outputId": "b6a0b98f-83ae-4544-bc1c-1267ceb2ea1e"
   },
   "outputs": [],
   "source": [
    "# Precio medio por marca\n",
    "df.groupby('Brand').mean('Price').plot()"
   ]
  },
  {
   "cell_type": "markdown",
   "metadata": {
    "id": "XB2ZCYwWYwEm"
   },
   "source": [
    "El gráfico anterior no es una buena representación ya que comunica una continuidad u orden entre las marcas de coche. \n",
    "\n",
    "Es más adecuado usar un gráfico de barras donde se comunica mejor que no existe una ordenación de las marcas."
   ]
  },
  {
   "cell_type": "code",
   "execution_count": null,
   "metadata": {
    "colab": {
     "base_uri": "https://localhost:8080/",
     "height": 323
    },
    "id": "GdCX6PQvYwEn",
    "outputId": "30cbe43a-e97f-46e9-9656-36a0a8cb3361"
   },
   "outputs": [],
   "source": [
    "# Precio medio por marca como gráfica de barras\n",
    "df.groupby('Brand').mean('Price').plot.bar()"
   ]
  },
  {
   "cell_type": "markdown",
   "metadata": {
    "id": "f0Z6jekjqGny"
   },
   "source": [
    "Además, podemos mostrar el histograma de una variable numérica de nuestro conjunto de datos"
   ]
  },
  {
   "cell_type": "code",
   "execution_count": null,
   "metadata": {
    "colab": {
     "base_uri": "https://localhost:8080/",
     "height": 318
    },
    "id": "lwP3TcPUhMNz",
    "outputId": "4a7b17b7-3f52-4788-95a2-e18339b79cc1"
   },
   "outputs": [],
   "source": [
    "df.hist('Price')"
   ]
  },
  {
   "cell_type": "markdown",
   "metadata": {
    "id": "t6xlnrO7sr7d"
   },
   "source": [
    "Podemos comparar el histograma de precios para las distintas marcas de coche."
   ]
  },
  {
   "cell_type": "code",
   "execution_count": null,
   "metadata": {
    "colab": {
     "base_uri": "https://localhost:8080/",
     "height": 430
    },
    "id": "t1P_R5WzrlT5",
    "outputId": "6276fdf4-fe28-42f2-8d95-e3e43dc00dcf"
   },
   "outputs": [],
   "source": [
    "df.hist('Price', by='Brand')"
   ]
  },
  {
   "cell_type": "markdown",
   "metadata": {
    "id": "zjyy9wzjs8gP"
   },
   "source": [
    "Sin embargo, la representación no es muy clara. No solamente por el solapamiento, sino porque cada gráfico tiene su propio rango de valores para el eje X y el eje Y, lo cual dificulta mucho la comparación de los mismos.\n"
   ]
  },
  {
   "cell_type": "code",
   "execution_count": null,
   "metadata": {
    "colab": {
     "base_uri": "https://localhost:8080/",
     "height": 397
    },
    "id": "IAzgcOnp3U9A",
    "outputId": "cad1d8bc-0053-40f8-b8c0-10e244716b2f"
   },
   "outputs": [],
   "source": [
    "df.groupby([\"Brand\"])[\"Price\"].plot(kind=\"density\")"
   ]
  },
  {
   "cell_type": "markdown",
   "metadata": {
    "id": "4p0HlLhc3U9B"
   },
   "source": [
    "Aunque desde Pandas podemos hacer muchas cosas, también podemos usar librerías especializadas como [Seaborn](https://seaborn.pydata.org/). "
   ]
  },
  {
   "cell_type": "code",
   "execution_count": null,
   "metadata": {
    "colab": {
     "base_uri": "https://localhost:8080/",
     "height": 387
    },
    "id": "6hlI-bo5s7kD",
    "outputId": "eaf248fa-415f-4c93-a6b6-10f4b727e616"
   },
   "outputs": [],
   "source": [
    "import seaborn as sns\n",
    "\n",
    "# Con la opción de 'kde' mostramos la estimación de la densidad subyacente, es decir, el histograma alisado\n",
    "sns.displot(df['Price'], kde=True)"
   ]
  },
  {
   "cell_type": "code",
   "execution_count": null,
   "metadata": {
    "colab": {
     "base_uri": "https://localhost:8080/",
     "height": 387
    },
    "id": "4wq563AmuHma",
    "outputId": "1ae659a4-9316-4fee-a5bf-f904791e4da9"
   },
   "outputs": [],
   "source": [
    "# Como es difícil ver más de dos histogramas superpuestos, mostraremos solamente la estimación kernel de la densidad\n",
    "sns.displot(df, x=\"Price\", hue=\"Brand\", kind='kde')"
   ]
  },
  {
   "cell_type": "markdown",
   "metadata": {
    "id": "2Qw1CV97wP8u"
   },
   "source": [
    "También es posible hacer representaciones más [sofisticadas](https://datavizpyr.com/ridgeline-plot-in-python-with-seaborn/) y [elegantes](https://seaborn.pydata.org/examples/kde_ridgeplot), aunque requieren más trabajo."
   ]
  }
 ],
 "metadata": {
  "colab": {
   "name": "02_Intro_Pandas.ipynb",
   "provenance": []
  },
  "kernelspec": {
   "display_name": "Python 3 (ipykernel)",
   "language": "python",
   "name": "python3"
  },
  "language_info": {
   "codemirror_mode": {
    "name": "ipython",
    "version": 3
   },
   "file_extension": ".py",
   "mimetype": "text/x-python",
   "name": "python",
   "nbconvert_exporter": "python",
   "pygments_lexer": "ipython3",
   "version": "3.8.10"
  }
 },
 "nbformat": 4,
 "nbformat_minor": 1
}
